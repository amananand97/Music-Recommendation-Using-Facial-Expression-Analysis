{
  "cells": [
    {
      "cell_type": "markdown",
      "metadata": {
        "id": "a1gXEDGBN2bs"
      },
      "source": [
        "# Facial Emotion Recogination"
      ]
    },
    {
      "cell_type": "code",
      "execution_count": 1,
      "metadata": {
        "colab": {
          "base_uri": "https://localhost:8080/"
        },
        "id": "bO4LHYH5N5wK",
        "outputId": "d6723e3b-e44b-45a2-f618-2bc622e05a10"
      },
      "outputs": [],
      "source": [
        "# from google.colab import drive\n",
        "# drive.mount('/content/drive')"
      ]
    },
    {
      "cell_type": "markdown",
      "metadata": {
        "id": "KnFmLSlwN2bz"
      },
      "source": [
        "## importing libraries"
      ]
    },
    {
      "cell_type": "code",
      "execution_count": 2,
      "metadata": {
        "id": "x-onLjOWZYAj"
      },
      "outputs": [],
      "source": [
        "import numpy as np\n",
        "import pandas as pd\n",
        "import os\n",
        "import seaborn as sns\n",
        "import tensorflow as tf"
      ]
    },
    {
      "cell_type": "code",
      "execution_count": 3,
      "metadata": {
        "colab": {
          "base_uri": "https://localhost:8080/"
        },
        "id": "6VRaWFPVj-Yi",
        "outputId": "9c620060-ceca-423d-940d-058729e1d67c"
      },
      "outputs": [
        {
          "name": "stdout",
          "output_type": "stream",
          "text": [
            "/Users/aman/Project/MRFEA-code\n"
          ]
        }
      ],
      "source": [
        "!pwd"
      ]
    },
    {
      "cell_type": "code",
      "execution_count": 4,
      "metadata": {
        "id": "u5mqVfbeN2bz"
      },
      "outputs": [],
      "source": [
        "\n",
        "from keras.preprocessing.image import ImageDataGenerator, load_img\n",
        "from keras.layers import Conv2D, Dense, BatchNormalization, Activation, Dropout, MaxPooling2D, Flatten\n",
        "from tensorflow.keras.optimizers import Adam, RMSprop\n",
        "from keras import regularizers\n",
        "from keras.callbacks import ModelCheckpoint, CSVLogger, TensorBoard, EarlyStopping, ReduceLROnPlateau\n",
        "import datetime\n",
        "import matplotlib.pyplot as plt\n",
        "from tensorflow.keras.utils import plot_model\n",
        "import zipfile\n"
      ]
    },
    {
      "cell_type": "markdown",
      "metadata": {
        "id": "5RamX2wGN2b1"
      },
      "source": [
        "# **Let's Use Internal GPU if there's any available**"
      ]
    },
    {
      "cell_type": "code",
      "execution_count": 5,
      "metadata": {
        "colab": {
          "base_uri": "https://localhost:8080/"
        },
        "id": "w4sTv5lOyoNk",
        "outputId": "12834801-56af-43c2-8409-dfe804ce2ab1"
      },
      "outputs": [
        {
          "name": "stdout",
          "output_type": "stream",
          "text": [
            "Requirement already satisfied: wandb in /Users/aman/Project/tensorflow-test/env/lib/python3.9/site-packages (0.12.7)\n",
            "Requirement already satisfied: protobuf>=3.12.0 in /Users/aman/Project/tensorflow-test/env/lib/python3.9/site-packages (from wandb) (3.19.1)\n",
            "Requirement already satisfied: six>=1.13.0 in /Users/aman/Project/tensorflow-test/env/lib/python3.9/site-packages (from wandb) (1.15.0)\n",
            "Requirement already satisfied: shortuuid>=0.5.0 in /Users/aman/Project/tensorflow-test/env/lib/python3.9/site-packages (from wandb) (1.0.8)\n",
            "Requirement already satisfied: GitPython>=1.0.0 in /Users/aman/Project/tensorflow-test/env/lib/python3.9/site-packages (from wandb) (3.1.24)\n",
            "Requirement already satisfied: subprocess32>=3.5.3 in /Users/aman/Project/tensorflow-test/env/lib/python3.9/site-packages (from wandb) (3.5.4)\n",
            "Requirement already satisfied: PyYAML in /Users/aman/Project/tensorflow-test/env/lib/python3.9/site-packages (from wandb) (6.0)\n",
            "Requirement already satisfied: requests<3,>=2.0.0 in /Users/aman/Project/tensorflow-test/env/lib/python3.9/site-packages (from wandb) (2.26.0)\n",
            "Requirement already satisfied: docker-pycreds>=0.4.0 in /Users/aman/Project/tensorflow-test/env/lib/python3.9/site-packages (from wandb) (0.4.0)\n",
            "Requirement already satisfied: promise<3,>=2.0 in /Users/aman/Project/tensorflow-test/env/lib/python3.9/site-packages (from wandb) (2.3)\n",
            "Requirement already satisfied: configparser>=3.8.1 in /Users/aman/Project/tensorflow-test/env/lib/python3.9/site-packages (from wandb) (5.2.0)\n",
            "Requirement already satisfied: yaspin>=1.0.0 in /Users/aman/Project/tensorflow-test/env/lib/python3.9/site-packages (from wandb) (2.1.0)\n",
            "Requirement already satisfied: Click!=8.0.0,>=7.0 in /Users/aman/Project/tensorflow-test/env/lib/python3.9/site-packages (from wandb) (8.0.3)\n",
            "Requirement already satisfied: pathtools in /Users/aman/Project/tensorflow-test/env/lib/python3.9/site-packages (from wandb) (0.1.2)\n",
            "Requirement already satisfied: python-dateutil>=2.6.1 in /Users/aman/Project/tensorflow-test/env/lib/python3.9/site-packages (from wandb) (2.8.2)\n",
            "Requirement already satisfied: psutil>=5.0.0 in /Users/aman/Project/tensorflow-test/env/lib/python3.9/site-packages (from wandb) (5.8.0)\n",
            "Requirement already satisfied: sentry-sdk>=1.0.0 in /Users/aman/Project/tensorflow-test/env/lib/python3.9/site-packages (from wandb) (1.5.0)\n",
            "Requirement already satisfied: gitdb<5,>=4.0.1 in /Users/aman/Project/tensorflow-test/env/lib/python3.9/site-packages (from GitPython>=1.0.0->wandb) (4.0.9)\n",
            "Requirement already satisfied: typing-extensions>=3.7.4.3 in /Users/aman/Project/tensorflow-test/env/lib/python3.9/site-packages (from GitPython>=1.0.0->wandb) (3.7.4.3)\n",
            "Requirement already satisfied: idna<4,>=2.5 in /Users/aman/Project/tensorflow-test/env/lib/python3.9/site-packages (from requests<3,>=2.0.0->wandb) (3.1)\n",
            "Requirement already satisfied: urllib3<1.27,>=1.21.1 in /Users/aman/Project/tensorflow-test/env/lib/python3.9/site-packages (from requests<3,>=2.0.0->wandb) (1.26.7)\n",
            "Requirement already satisfied: charset-normalizer~=2.0.0 in /Users/aman/Project/tensorflow-test/env/lib/python3.9/site-packages (from requests<3,>=2.0.0->wandb) (2.0.9)\n",
            "Requirement already satisfied: certifi>=2017.4.17 in /Users/aman/Project/tensorflow-test/env/lib/python3.9/site-packages (from requests<3,>=2.0.0->wandb) (2021.10.8)\n",
            "Requirement already satisfied: termcolor<2.0.0,>=1.1.0 in /Users/aman/Project/tensorflow-test/env/lib/python3.9/site-packages (from yaspin>=1.0.0->wandb) (1.1.0)\n",
            "Requirement already satisfied: smmap<6,>=3.0.1 in /Users/aman/Project/tensorflow-test/env/lib/python3.9/site-packages (from gitdb<5,>=4.0.1->GitPython>=1.0.0->wandb) (5.0.0)\n"
          ]
        }
      ],
      "source": [
        "!pip3 install wandb"
      ]
    },
    {
      "cell_type": "code",
      "execution_count": 6,
      "metadata": {
        "colab": {
          "base_uri": "https://localhost:8080/"
        },
        "id": "sm2zL7Biyjfm",
        "outputId": "bb6a0f55-7e85-4d32-e61b-5d903033b34f"
      },
      "outputs": [
        {
          "name": "stdout",
          "output_type": "stream",
          "text": [
            "\u001b[34m\u001b[1mwandb\u001b[0m: Appending key for api.wandb.ai to your netrc file: /Users/aman/.netrc\n"
          ]
        }
      ],
      "source": [
        "!wandb login --relogin d1bef696e6b253e223b885d9a44c844d59c37c1c"
      ]
    },
    {
      "cell_type": "code",
      "execution_count": 7,
      "metadata": {
        "colab": {
          "base_uri": "https://localhost:8080/",
          "height": 93
        },
        "id": "JCMJArS_RL1o",
        "outputId": "bcb8b945-8f93-4f14-f78d-055bca8ad935"
      },
      "outputs": [
        {
          "name": "stderr",
          "output_type": "stream",
          "text": [
            "\u001b[34m\u001b[1mwandb\u001b[0m: Currently logged in as: \u001b[33mdeveloper1404\u001b[0m (use `wandb login --relogin` to force relogin)\n"
          ]
        },
        {
          "data": {
            "text/html": [
              "\n",
              "                    Syncing run <strong><a href=\"https://wandb.ai/developer1404/musicreco/runs/13m3ixx9\" target=\"_blank\">polar-pine-108</a></strong> to <a href=\"https://wandb.ai/developer1404/musicreco\" target=\"_blank\">Weights & Biases</a> (<a href=\"https://docs.wandb.com/integrations/jupyter.html\" target=\"_blank\">docs</a>).<br/>\n",
              "\n",
              "                "
            ],
            "text/plain": [
              "<IPython.core.display.HTML object>"
            ]
          },
          "metadata": {},
          "output_type": "display_data"
        },
        {
          "data": {
            "text/html": [
              "<button onClick=\"this.nextSibling.style.display='block';this.style.display='none';\">Display W&B run</button><iframe src=\"https://wandb.ai/developer1404/musicreco/runs/13m3ixx9?jupyter=true\" style=\"border:none;width:100%;height:420px;display:none;\"></iframe>"
            ],
            "text/plain": [
              "<wandb.sdk.wandb_run.Run at 0x17f9f9c70>"
            ]
          },
          "execution_count": 7,
          "metadata": {},
          "output_type": "execute_result"
        }
      ],
      "source": [
        "import wandb\n",
        "from wandb.keras import WandbCallback\n",
        "\n",
        "wandb.init(project=\"musicreco\", entity=\"developer1404\")"
      ]
    },
    {
      "cell_type": "code",
      "execution_count": 8,
      "metadata": {
        "colab": {
          "base_uri": "https://localhost:8080/"
        },
        "id": "lJ2f4Mo2N2b1",
        "outputId": "418ab276-a616-41a5-f874-863e183e67dc"
      },
      "outputs": [
        {
          "name": "stdout",
          "output_type": "stream",
          "text": [
            "TensorFlow has access to the following devices:\n",
            "[PhysicalDevice(name='/physical_device:CPU:0', device_type='CPU'), PhysicalDevice(name='/physical_device:GPU:0', device_type='GPU')]\n",
            "TensorFlow version: 2.7.0\n"
          ]
        }
      ],
      "source": [
        "print(f\"TensorFlow has access to the following devices:\\n{tf.config.list_physical_devices()}\")\n",
        "\n",
        "# See TensorFlow version\n",
        "print(f\"TensorFlow version: {tf.__version__}\")"
      ]
    },
    {
      "cell_type": "code",
      "execution_count": 9,
      "metadata": {
        "id": "-CwXqCH5a801"
      },
      "outputs": [],
      "source": [
        "# path_to_zip_file = \"/Users/aman/Project/MRFEA-code/archive.zip\"\n",
        "# directory_to_extract_to = \"FER_data\""
      ]
    },
    {
      "cell_type": "code",
      "execution_count": 10,
      "metadata": {
        "id": "XFpjOvGFbWjg"
      },
      "outputs": [],
      "source": [
        "# with zipfile.ZipFile(path_to_zip_file, 'r') as zip_ref:\n",
        "#     zip_ref.extractall(directory_to_extract_to)"
      ]
    },
    {
      "cell_type": "code",
      "execution_count": 11,
      "metadata": {
        "id": "SeOokmvGTfzp"
      },
      "outputs": [],
      "source": [
        "!rm -rf \"archive/train/disgust\"\n",
        "!rm -rf \"archive/test/disgust\"\n",
        "!rm -rf \"archive/train/fear\"\n",
        "!rm -rf \"archive/test/fear\"\n",
        "!rm -rf \"archive/train/surprise\"\n",
        "!rm -rf \"archive/test/surprise\"\n",
        "!find . -name '.DS_Store' -type f -delete\n",
        "!find . -name '__MACOSX' -type f -delete"
      ]
    },
    {
      "cell_type": "code",
      "execution_count": 12,
      "metadata": {
        "colab": {
          "base_uri": "https://localhost:8080/"
        },
        "id": "_-KR1kCGN2b2",
        "outputId": "aa1ba7f7-484b-4497-8861-5960ccca25fc"
      },
      "outputs": [
        {
          "name": "stdout",
          "output_type": "stream",
          "text": [
            "       happy   sad  neutral  angry\n",
            "train   7215  4830     4965   3995\n",
            "      happy   sad  neutral  angry\n",
            "test   1774  1247     1233    958\n"
          ]
        }
      ],
      "source": [
        "basedir = \"/Users/aman/Project/MRFEA-code/archive\"\n",
        "\n",
        "train_dir = os.path.join(basedir,'train/')\n",
        "test_dir = os.path.join(basedir,'test/')\n",
        "\n",
        "row, col = 48, 48\n",
        "classes = 4\n",
        "\n",
        "def count_exp(path, set_):\n",
        "    dict_ = {}\n",
        "    for expression in os.listdir(path):\n",
        "        dir_ = path + expression\n",
        "        dict_[expression] = len(os.listdir(dir_))\n",
        "    df = pd.DataFrame(dict_, index=[set_])\n",
        "    return df\n",
        "train_count = count_exp(train_dir, 'train')\n",
        "test_count = count_exp(test_dir, 'test')\n",
        "print(train_count)\n",
        "print(test_count)"
      ]
    },
    {
      "cell_type": "markdown",
      "metadata": {
        "id": "-qUtCI0jN2b3"
      },
      "source": [
        "### PLot of number of images in training set"
      ]
    },
    {
      "cell_type": "code",
      "execution_count": 13,
      "metadata": {
        "colab": {
          "base_uri": "https://localhost:8080/",
          "height": 100
        },
        "id": "H8x1CYBJdnjm",
        "outputId": "16fcc372-7044-4181-ac71-c0982f27a3c9"
      },
      "outputs": [
        {
          "data": {
            "text/html": [
              "<div>\n",
              "<style scoped>\n",
              "    .dataframe tbody tr th:only-of-type {\n",
              "        vertical-align: middle;\n",
              "    }\n",
              "\n",
              "    .dataframe tbody tr th {\n",
              "        vertical-align: top;\n",
              "    }\n",
              "\n",
              "    .dataframe thead th {\n",
              "        text-align: right;\n",
              "    }\n",
              "</style>\n",
              "<table border=\"1\" class=\"dataframe\">\n",
              "  <thead>\n",
              "    <tr style=\"text-align: right;\">\n",
              "      <th></th>\n",
              "      <th>happy</th>\n",
              "      <th>sad</th>\n",
              "      <th>neutral</th>\n",
              "      <th>angry</th>\n",
              "    </tr>\n",
              "  </thead>\n",
              "  <tbody>\n",
              "    <tr>\n",
              "      <th>train</th>\n",
              "      <td>7215</td>\n",
              "      <td>4830</td>\n",
              "      <td>4965</td>\n",
              "      <td>3995</td>\n",
              "    </tr>\n",
              "  </tbody>\n",
              "</table>\n",
              "</div>"
            ],
            "text/plain": [
              "       happy   sad  neutral  angry\n",
              "train   7215  4830     4965   3995"
            ]
          },
          "execution_count": 13,
          "metadata": {},
          "output_type": "execute_result"
        }
      ],
      "source": [
        "train_count"
      ]
    },
    {
      "cell_type": "code",
      "execution_count": 14,
      "metadata": {
        "colab": {
          "base_uri": "https://localhost:8080/",
          "height": 335
        },
        "id": "zg5v5ff-dp5v",
        "outputId": "ab1bbda2-7856-416b-deee-f2510b77b517"
      },
      "outputs": [
        {
          "name": "stderr",
          "output_type": "stream",
          "text": [
            "/Users/aman/Project/tensorflow-test/env/lib/python3.9/site-packages/seaborn/_decorators.py:36: FutureWarning: Pass the following variables as keyword args: x, y. From version 0.12, the only valid positional argument will be `data`, and passing other arguments without an explicit keyword will result in an error or misinterpretation.\n",
            "  warnings.warn(\n"
          ]
        },
        {
          "data": {
            "text/plain": [
              "<AxesSubplot:>"
            ]
          },
          "execution_count": 14,
          "metadata": {},
          "output_type": "execute_result"
        },
        {
          "data": {
            "image/png": "[encoded data removed]",
            "text/plain": [
              "<Figure size 432x288 with 1 Axes>"
            ]
          },
          "metadata": {
            "needs_background": "light"
          },
          "output_type": "display_data"
        }
      ],
      "source": [
        "sns.barplot(train_count.columns, train_count.values[0])"
      ]
    },
    {
      "cell_type": "code",
      "execution_count": 15,
      "metadata": {
        "colab": {
          "base_uri": "https://localhost:8080/",
          "height": 335
        },
        "id": "VZ8tw0I1ediD",
        "outputId": "d79b49ae-aba9-446a-cc63-5ea94c901fc1"
      },
      "outputs": [
        {
          "name": "stderr",
          "output_type": "stream",
          "text": [
            "/Users/aman/Project/tensorflow-test/env/lib/python3.9/site-packages/seaborn/_decorators.py:36: FutureWarning: Pass the following variables as keyword args: x, y. From version 0.12, the only valid positional argument will be `data`, and passing other arguments without an explicit keyword will result in an error or misinterpretation.\n",
            "  warnings.warn(\n"
          ]
        },
        {
          "data": {
            "text/plain": [
              "<AxesSubplot:>"
            ]
          },
          "execution_count": 15,
          "metadata": {},
          "output_type": "execute_result"
        },
        {
          "data": {
            "image/png": "[encoded data removed]",
            "text/plain": [
              "<Figure size 432x288 with 1 Axes>"
            ]
          },
          "metadata": {
            "needs_background": "light"
          },
          "output_type": "display_data"
        }
      ],
      "source": [
        "sns.barplot(test_count.columns, test_count.values[0])"
      ]
    },
    {
      "cell_type": "markdown",
      "metadata": {
        "id": "3k72r10KN2b4"
      },
      "source": [
        "### PLot of number of images in test set"
      ]
    },
    {
      "cell_type": "code",
      "execution_count": 16,
      "metadata": {
        "colab": {
          "base_uri": "https://localhost:8080/",
          "height": 162
        },
        "id": "onaKJK3qN2b5",
        "outputId": "5d7f954f-dc72-40a6-e639-9238bb8b2456"
      },
      "outputs": [
        {
          "data": {
            "image/png": "[encoded data removed]",
            "text/plain": [
              "<Figure size 1008x1584 with 4 Axes>"
            ]
          },
          "metadata": {
            "needs_background": "light"
          },
          "output_type": "display_data"
        }
      ],
      "source": [
        "plt.figure(figsize=(14,22))\n",
        "i = 1\n",
        "for expression in os.listdir(train_dir):\n",
        "    img = load_img((train_dir + expression +'/'+ os.listdir(train_dir + expression)[1]))\n",
        "    plt.subplot(1,7,i)\n",
        "    plt.imshow(img)\n",
        "    plt.title(expression)\n",
        "    plt.axis('off')\n",
        "    i += 1\n",
        "plt.show()"
      ]
    },
    {
      "cell_type": "code",
      "execution_count": 17,
      "metadata": {
        "colab": {
          "base_uri": "https://localhost:8080/"
        },
        "id": "zzkRQoJhN2b5",
        "outputId": "892e6b4a-ccdf-4494-b1aa-31e15feee977"
      },
      "outputs": [
        {
          "name": "stdout",
          "output_type": "stream",
          "text": [
            "Found 21005 images belonging to 4 classes.\n",
            "Found 5212 images belonging to 4 classes.\n"
          ]
        }
      ],
      "source": [
        "image_size= 48\n",
        "batch_size= 64\n",
        "train_datagen = ImageDataGenerator(rescale=1./255,\n",
        "                                   horizontal_flip=True,\n",
        "                                   rotation_range = 0.30)\n",
        "\n",
        "training_set = train_datagen.flow_from_directory(train_dir,\n",
        "                                                batch_size=64,\n",
        "                                                target_size=(image_size, image_size),\n",
        "                                                shuffle=True,\n",
        "                                                color_mode='rgb',\n",
        "                                                class_mode=\"categorical\")\n",
        "\n",
        "test_datagen = ImageDataGenerator(rescale=1./255)\n",
        "test_set = test_datagen.flow_from_directory(test_dir,\n",
        "                                                batch_size=64,\n",
        "                                                target_size=(image_size, image_size),\n",
        "                                                shuffle=True,\n",
        "                                                color_mode='rgb',\n",
        "                                                class_mode='categorical')"
      ]
    },
    {
      "cell_type": "code",
      "execution_count": 18,
      "metadata": {
        "id": "Z-KVnFdOOuFe"
      },
      "outputs": [],
      "source": [
        "def auroc(y_true, y_pred):\n",
        "    return np.py_func(roc_auc_score, (y_true, y_pred), tf.double)"
      ]
    },
    {
      "cell_type": "markdown",
      "metadata": {
        "id": "utAEjjWtN2b7"
      },
      "source": [
        "## Defining Model"
      ]
    },
    {
      "cell_type": "code",
      "execution_count": 19,
      "metadata": {
        "id": "hO6tx16rD9mj"
      },
      "outputs": [],
      "source": [
        "import keras"
      ]
    },
    {
      "cell_type": "code",
      "execution_count": 20,
      "metadata": {
        "id": "vrxg4rcogDOx"
      },
      "outputs": [],
      "source": [
        "from keras.applications.vgg16 import VGG16\n",
        "from tensorflow.keras.applications import ResNet50\n",
        "from keras.models import Model\n",
        "from keras.layers import Dense\n",
        "from keras.layers import Flatten\n",
        "from keras import models\n",
        "from keras import layers\n",
        "\n",
        "classes = 4\n",
        "def model():\n",
        "  # load model without classifier layers\n",
        "  pretrained = VGG16(include_top=False, weights = \"imagenet\", input_shape=(48, 48, 3))\n",
        "  # add new classifier layers\n",
        "  flat1 = Flatten()(pretrained.layers[-1].output)\n",
        "  denseout1 = Dense(1024, activation='relu')(flat1)\n",
        "  denseout2 = Dense(512, activation='relu')(denseout1)\n",
        "  output = Dense(classes, activation='softmax')(denseout2)\n",
        "  # define new model\n",
        "  model = Model(inputs=pretrained.inputs, outputs=output)\n",
        "  opt = Adam(learning_rate=0.0001 , decay=1e-7)\n",
        "  model.compile(optimizer=opt, loss='categorical_crossentropy', metrics=[\"acc\"])\n",
        "  # summarize\n",
        "  return model"
      ]
    },
    {
      "cell_type": "code",
      "execution_count": 21,
      "metadata": {
        "id": "GKZLCBW7zdVR"
      },
      "outputs": [],
      "source": [
        "import wandb"
      ]
    },
    {
      "cell_type": "code",
      "execution_count": 22,
      "metadata": {
        "colab": {
          "base_uri": "https://localhost:8080/",
          "height": 190,
          "referenced_widgets": [
            "4ebc192a44b2493faee5d7c45f3013bc",
            "07a87f09880042f6acce381a40b9fe53",
            "8e7e57174f7a4f629fa0666cfd3744ca",
            "9ee96f5455b84e4388280522fc27b265",
            "2dba46c1de924915bceaf417c8f5719b",
            "91d3ebecd5bc48f89e19b6b06eb46284",
            "a4633cb0f95c4d17befa2dfd854f5b70",
            "102f4afe2348455fb1595206bf3de080"
          ]
        },
        "id": "DTQUXpjDzJzP",
        "outputId": "14940f70-0762-412b-c377-36f55da5e38a"
      },
      "outputs": [
        {
          "data": {
            "text/html": [
              "Finishing last run (ID:13m3ixx9) before initializing another..."
            ],
            "text/plain": [
              "<IPython.core.display.HTML object>"
            ]
          },
          "metadata": {},
          "output_type": "display_data"
        },
        {
          "data": {
            "text/html": [
              "<br/>Waiting for W&B process to finish, PID 7949... <strong style=\"color:green\">(success).</strong>"
            ],
            "text/plain": [
              "<IPython.core.display.HTML object>"
            ]
          },
          "metadata": {},
          "output_type": "display_data"
        },
        {
          "data": {
            "application/vnd.jupyter.widget-view+json": {
              "model_id": "ce24ee7ba43a41f08e1ed2280b111cfc",
              "version_major": 2,
              "version_minor": 0
            },
            "text/plain": [
              "VBox(children=(Label(value=' 0.00MB of 0.00MB uploaded (0.00MB deduped)\\r'), FloatProgress(value=1.0, max=1.0)…"
            ]
          },
          "metadata": {},
          "output_type": "display_data"
        },
        {
          "data": {
            "text/html": [
              "<style>\n",
              "    table.wandb td:nth-child(1) { padding: 0 10px; text-align: right }\n",
              "    .wandb-row { display: flex; flex-direction: row; flex-wrap: wrap; width: 100% }\n",
              "    .wandb-col { display: flex; flex-direction: column; flex-basis: 100%; flex: 1; padding: 10px; }\n",
              "    </style>\n",
              "<div class=\"wandb-row\"><div class=\"wandb-col\">\n",
              "</div><div class=\"wandb-col\">\n",
              "</div></div>\n",
              "Synced 6 W&B file(s), 0 media file(s), 0 artifact file(s) and 0 other file(s)\n",
              "<br/>Synced <strong style=\"color:#cdcd00\">polar-pine-108</strong>: <a href=\"https://wandb.ai/developer1404/musicreco/runs/13m3ixx9\" target=\"_blank\">https://wandb.ai/developer1404/musicreco/runs/13m3ixx9</a><br/>\n",
              "Find logs at: <code>./wandb/run-20211211_180826-13m3ixx9/logs</code><br/>\n"
            ],
            "text/plain": [
              "<IPython.core.display.HTML object>"
            ]
          },
          "metadata": {},
          "output_type": "display_data"
        },
        {
          "data": {
            "text/html": [
              "Successfully finished last run (ID:13m3ixx9). Initializing new run:<br/>"
            ],
            "text/plain": [
              "<IPython.core.display.HTML object>"
            ]
          },
          "metadata": {},
          "output_type": "display_data"
        },
        {
          "data": {
            "text/html": [
              "\n",
              "                    Syncing run <strong><a href=\"https://wandb.ai/developer1404/musicreco/runs/28t4iq0w\" target=\"_blank\">lemon-durian-109</a></strong> to <a href=\"https://wandb.ai/developer1404/musicreco\" target=\"_blank\">Weights & Biases</a> (<a href=\"https://docs.wandb.com/integrations/jupyter.html\" target=\"_blank\">docs</a>).<br/>\n",
              "\n",
              "                "
            ],
            "text/plain": [
              "<IPython.core.display.HTML object>"
            ]
          },
          "metadata": {},
          "output_type": "display_data"
        }
      ],
      "source": [
        "# Initialize wandb with your project name\n",
        "run = wandb.init(project='musicreco', entity='developer1404',\n",
        "                 config={  # and include hyperparameters and metadata\n",
        "                     \"learning_rate\": 0.0001,\n",
        "                     \"epochs\": 16,\n",
        "                     \"batch_size\": 64, \n",
        "                     \"loss_function\": \"categorical_crossentropy\", \n",
        "                     \"architecture\": \"CNN\",\n",
        "                     \"dataset\": \"FER_data\"\n",
        "                 })\n",
        "\n",
        "config = wandb.config  # We'll use this to configure our experiment"
      ]
    },
    {
      "cell_type": "code",
      "execution_count": 23,
      "metadata": {
        "colab": {
          "base_uri": "https://localhost:8080/"
        },
        "id": "NIjKqNAmgUkF",
        "outputId": "4ecf8fbf-5aea-4316-9081-049cc40900b3"
      },
      "outputs": [
        {
          "name": "stderr",
          "output_type": "stream",
          "text": [
            "2021-12-11 18:08:57.841566: I tensorflow/core/common_runtime/pluggable_device/pluggable_device_factory.cc:305] Could not identify NUMA node of platform GPU ID 0, defaulting to 0. Your kernel may not have been built with NUMA support.\n",
            "2021-12-11 18:08:57.841686: I tensorflow/core/common_runtime/pluggable_device/pluggable_device_factory.cc:271] Created TensorFlow device (/job:localhost/replica:0/task:0/device:GPU:0 with 0 MB memory) -> physical PluggableDevice (device: 0, name: METAL, pci bus id: <undefined>)\n"
          ]
        },
        {
          "name": "stdout",
          "output_type": "stream",
          "text": [
            "Metal device set to: Apple M1 Max\n",
            "\n",
            "systemMemory: 64.00 GB\n",
            "maxCacheSize: 21.33 GB\n",
            "\n",
            "Model: \"model\"\n",
            "_________________________________________________________________\n",
            " Layer (type)                Output Shape              Param #   \n",
            "=================================================================\n",
            " input_1 (InputLayer)        [(None, 48, 48, 3)]       0         \n",
            "                                                                 \n",
            " block1_conv1 (Conv2D)       (None, 48, 48, 64)        1792      \n",
            "                                                                 \n",
            " block1_conv2 (Conv2D)       (None, 48, 48, 64)        36928     \n",
            "                                                                 \n",
            " block1_pool (MaxPooling2D)  (None, 24, 24, 64)        0         \n",
            "                                                                 \n",
            " block2_conv1 (Conv2D)       (None, 24, 24, 128)       73856     \n",
            "                                                                 \n",
            " block2_conv2 (Conv2D)       (None, 24, 24, 128)       147584    \n",
            "                                                                 \n",
            " block2_pool (MaxPooling2D)  (None, 12, 12, 128)       0         \n",
            "                                                                 \n",
            " block3_conv1 (Conv2D)       (None, 12, 12, 256)       295168    \n",
            "                                                                 \n",
            " block3_conv2 (Conv2D)       (None, 12, 12, 256)       590080    \n",
            "                                                                 \n",
            " block3_conv3 (Conv2D)       (None, 12, 12, 256)       590080    \n",
            "                                                                 \n",
            " block3_pool (MaxPooling2D)  (None, 6, 6, 256)         0         \n",
            "                                                                 \n",
            " block4_conv1 (Conv2D)       (None, 6, 6, 512)         1180160   \n",
            "                                                                 \n",
            " block4_conv2 (Conv2D)       (None, 6, 6, 512)         2359808   \n",
            "                                                                 \n",
            " block4_conv3 (Conv2D)       (None, 6, 6, 512)         2359808   \n",
            "                                                                 \n",
            " block4_pool (MaxPooling2D)  (None, 3, 3, 512)         0         \n",
            "                                                                 \n",
            " block5_conv1 (Conv2D)       (None, 3, 3, 512)         2359808   \n",
            "                                                                 \n",
            " block5_conv2 (Conv2D)       (None, 3, 3, 512)         2359808   \n",
            "                                                                 \n",
            " block5_conv3 (Conv2D)       (None, 3, 3, 512)         2359808   \n",
            "                                                                 \n",
            " block5_pool (MaxPooling2D)  (None, 1, 1, 512)         0         \n",
            "                                                                 \n",
            " flatten (Flatten)           (None, 512)               0         \n",
            "                                                                 \n",
            " dense (Dense)               (None, 1024)              525312    \n",
            "                                                                 \n",
            " dense_1 (Dense)             (None, 512)               524800    \n",
            "                                                                 \n",
            " dense_2 (Dense)             (None, 4)                 2052      \n",
            "                                                                 \n",
            "=================================================================\n",
            "Total params: 15,766,852\n",
            "Trainable params: 15,766,852\n",
            "Non-trainable params: 0\n",
            "_________________________________________________________________\n"
          ]
        }
      ],
      "source": [
        "model = model()\n",
        "model.summary()"
      ]
    },
    {
      "cell_type": "markdown",
      "metadata": {
        "id": "xsE--WmFN2b-"
      },
      "source": [
        "### Callbacks Function"
      ]
    },
    {
      "cell_type": "code",
      "execution_count": 24,
      "metadata": {
        "id": "VGntDMTCN2b-"
      },
      "outputs": [],
      "source": [
        "from wandb.keras import WandbCallback\n",
        "\n",
        "chk_path = 'model.h5'\n",
        "log_dir = \"checkpoint/logs/\" + datetime.datetime.now().strftime(\"%Y%m%d-%H%M%S\")\n",
        "\n",
        "checkpoint = ModelCheckpoint(filepath=chk_path,\n",
        "                             save_best_only=True,\n",
        "                             verbose=1,\n",
        "                             mode='min',\n",
        "                             moniter='val_loss')\n",
        "\n",
        "earlystop = EarlyStopping(monitor='val_loss', \n",
        "                          min_delta=0, \n",
        "                          patience=10, \n",
        "                          verbose=1, \n",
        "                          restore_best_weights=True)\n",
        "                        \n",
        "reduce_lr = ReduceLROnPlateau(monitor='val_loss', \n",
        "                              factor=0.2, \n",
        "                              patience=6, \n",
        "                              verbose=1, \n",
        "                              min_delta=0.0001)\n",
        "\n",
        "\n",
        "tensorboard_callback = tf.keras.callbacks.TensorBoard(log_dir=log_dir, histogram_freq=1)\n",
        "csv_logger = CSVLogger('training.log')\n",
        "\n",
        "callbacks = [checkpoint, reduce_lr, csv_logger, earlystop,WandbCallback()] "
      ]
    },
    {
      "cell_type": "markdown",
      "metadata": {
        "id": "oHhVodSpN2b_"
      },
      "source": [
        "## Training Model"
      ]
    },
    {
      "cell_type": "code",
      "execution_count": 25,
      "metadata": {
        "id": "CONsK5_0iqrU"
      },
      "outputs": [],
      "source": [
        "from sklearn.utils import class_weight"
      ]
    },
    {
      "cell_type": "code",
      "execution_count": 26,
      "metadata": {
        "colab": {
          "base_uri": "https://localhost:8080/",
          "height": 100
        },
        "id": "k3L4zwhuiw5Y",
        "outputId": "0b7ab62a-5734-41f2-a3c8-4f0c595c8f40"
      },
      "outputs": [
        {
          "data": {
            "text/html": [
              "<div>\n",
              "<style scoped>\n",
              "    .dataframe tbody tr th:only-of-type {\n",
              "        vertical-align: middle;\n",
              "    }\n",
              "\n",
              "    .dataframe tbody tr th {\n",
              "        vertical-align: top;\n",
              "    }\n",
              "\n",
              "    .dataframe thead th {\n",
              "        text-align: right;\n",
              "    }\n",
              "</style>\n",
              "<table border=\"1\" class=\"dataframe\">\n",
              "  <thead>\n",
              "    <tr style=\"text-align: right;\">\n",
              "      <th></th>\n",
              "      <th>happy</th>\n",
              "      <th>sad</th>\n",
              "      <th>neutral</th>\n",
              "      <th>angry</th>\n",
              "    </tr>\n",
              "  </thead>\n",
              "  <tbody>\n",
              "    <tr>\n",
              "      <th>test</th>\n",
              "      <td>1774</td>\n",
              "      <td>1247</td>\n",
              "      <td>1233</td>\n",
              "      <td>958</td>\n",
              "    </tr>\n",
              "  </tbody>\n",
              "</table>\n",
              "</div>"
            ],
            "text/plain": [
              "      happy   sad  neutral  angry\n",
              "test   1774  1247     1233    958"
            ]
          },
          "execution_count": 26,
          "metadata": {},
          "output_type": "execute_result"
        }
      ],
      "source": [
        "test_count"
      ]
    },
    {
      "cell_type": "code",
      "execution_count": 27,
      "metadata": {
        "id": "0JQc6aF6jE9l"
      },
      "outputs": [],
      "source": [
        "y = []\n",
        "for col in train_count.columns:\n",
        "  y.extend([col]*train_count[col][\"train\"])"
      ]
    },
    {
      "cell_type": "code",
      "execution_count": 28,
      "metadata": {
        "colab": {
          "base_uri": "https://localhost:8080/"
        },
        "id": "Kzl8aQ7s0xk2",
        "outputId": "5e285e84-a069-4995-aaf6-cb56493bf560"
      },
      "outputs": [
        {
          "data": {
            "text/plain": [
              "array(['angry', 'happy', 'neutral', 'sad'], dtype='<U7')"
            ]
          },
          "execution_count": 28,
          "metadata": {},
          "output_type": "execute_result"
        }
      ],
      "source": [
        "np.unique(y)"
      ]
    },
    {
      "cell_type": "code",
      "execution_count": 29,
      "metadata": {
        "id": "_S3Ya9lMirgY"
      },
      "outputs": [],
      "source": [
        "class_weights = class_weight.compute_class_weight(class_weight = 'balanced',\n",
        "                                                  classes = np.unique(y),\n",
        "                                                  y = y)"
      ]
    },
    {
      "cell_type": "code",
      "execution_count": 30,
      "metadata": {
        "id": "evZMgqEFj7Ma"
      },
      "outputs": [],
      "source": [
        "class_weights = dict(enumerate(class_weights))"
      ]
    },
    {
      "cell_type": "code",
      "execution_count": 31,
      "metadata": {
        "colab": {
          "base_uri": "https://localhost:8080/"
        },
        "id": "fElxOery2QM8",
        "outputId": "95fa863d-123f-4335-ddc9-5be8fcdaa7aa"
      },
      "outputs": [
        {
          "data": {
            "text/plain": [
              "{0: 1.3144555694618272,\n",
              " 1: 0.7278239778239778,\n",
              " 2: 1.0576535750251763,\n",
              " 3: 1.0872153209109732}"
            ]
          },
          "execution_count": 31,
          "metadata": {},
          "output_type": "execute_result"
        }
      ],
      "source": [
        "class_weights\n",
        "\n",
        "# {0: 1.3123282538096428,\n",
        "#  1: 0.7281011781011781,\n",
        "#  2: 1.0580563947633435,\n",
        "#  3: 1.0876293995859214}"
      ]
    },
    {
      "cell_type": "code",
      "execution_count": 32,
      "metadata": {
        "id": "8MgNIYXSej9d"
      },
      "outputs": [],
      "source": [
        "steps_per_epoch = training_set.n // training_set.batch_size\n",
        "validation_steps = test_set.n // test_set.batch_size"
      ]
    },
    {
      "cell_type": "code",
      "execution_count": 33,
      "metadata": {
        "colab": {
          "base_uri": "https://localhost:8080/"
        },
        "id": "psuibaQ3HR5L",
        "outputId": "b0a09a2f-d1ff-41da-8f49-56b8b5ab6a32"
      },
      "outputs": [
        {
          "data": {
            "text/plain": [
              "True"
            ]
          },
          "execution_count": 33,
          "metadata": {},
          "output_type": "execute_result"
        }
      ],
      "source": [
        "model.layers[-10:][0].trainable"
      ]
    },
    {
      "cell_type": "code",
      "execution_count": 34,
      "metadata": {
        "colab": {
          "base_uri": "https://localhost:8080/"
        },
        "id": "Q2jRZPnrN2b_",
        "outputId": "42ce733c-bcc2-4f10-b05d-213732d4c965"
      },
      "outputs": [
        {
          "name": "stderr",
          "output_type": "stream",
          "text": [
            "2021-12-11 18:08:58.557509: W tensorflow/core/platform/profile_utils/cpu_utils.cc:128] Failed to get CPU frequency: 0 Hz\n"
          ]
        },
        {
          "name": "stdout",
          "output_type": "stream",
          "text": [
            "Epoch 1/60\n"
          ]
        },
        {
          "name": "stderr",
          "output_type": "stream",
          "text": [
            "2021-12-11 18:08:58.857318: I tensorflow/core/grappler/optimizers/custom_graph_optimizer_registry.cc:112] Plugin optimizer for device_type GPU is enabled.\n"
          ]
        },
        {
          "name": "stdout",
          "output_type": "stream",
          "text": [
            "  6/328 [..............................] - ETA: 19s - loss: 1.4030 - acc: 0.2891WARNING:tensorflow:Callback method `on_train_batch_end` is slow compared to the batch time (batch time: 0.0254s vs `on_train_batch_end` time: 0.0396s). Check your callbacks.\n",
            "328/328 [==============================] - ETA: 0s - loss: 1.0980 - acc: 0.5254"
          ]
        },
        {
          "name": "stderr",
          "output_type": "stream",
          "text": [
            "2021-12-11 18:09:18.733787: I tensorflow/core/grappler/optimizers/custom_graph_optimizer_registry.cc:112] Plugin optimizer for device_type GPU is enabled.\n"
          ]
        },
        {
          "name": "stdout",
          "output_type": "stream",
          "text": [
            "\n",
            "Epoch 00001: val_loss improved from inf to 0.86709, saving model to model.h5\n",
            "328/328 [==============================] - 22s 65ms/step - loss: 1.0980 - acc: 0.5254 - val_loss: 0.8671 - val_acc: 0.6294 - lr: 1.0000e-04\n",
            "Epoch 2/60\n",
            "328/328 [==============================] - ETA: 0s - loss: 0.8563 - acc: 0.6678\n",
            "Epoch 00002: val_loss improved from 0.86709 to 0.76983, saving model to model.h5\n",
            "328/328 [==============================] - 21s 62ms/step - loss: 0.8563 - acc: 0.6678 - val_loss: 0.7698 - val_acc: 0.6821 - lr: 1.0000e-04\n",
            "Epoch 3/60\n",
            "328/328 [==============================] - ETA: 0s - loss: 0.7745 - acc: 0.7041\n",
            "Epoch 00003: val_loss improved from 0.76983 to 0.74165, saving model to model.h5\n",
            "328/328 [==============================] - 21s 65ms/step - loss: 0.7745 - acc: 0.7041 - val_loss: 0.7416 - val_acc: 0.6944 - lr: 1.0000e-04\n",
            "Epoch 4/60\n",
            "328/328 [==============================] - ETA: 0s - loss: 0.7112 - acc: 0.7344\n",
            "Epoch 00004: val_loss improved from 0.74165 to 0.73235, saving model to model.h5\n",
            "328/328 [==============================] - 21s 63ms/step - loss: 0.7112 - acc: 0.7344 - val_loss: 0.7323 - val_acc: 0.7139 - lr: 1.0000e-04\n",
            "Epoch 5/60\n",
            "328/328 [==============================] - ETA: 0s - loss: 0.6535 - acc: 0.7561\n",
            "Epoch 00005: val_loss improved from 0.73235 to 0.71175, saving model to model.h5\n",
            "328/328 [==============================] - 21s 63ms/step - loss: 0.6535 - acc: 0.7561 - val_loss: 0.7117 - val_acc: 0.7215 - lr: 1.0000e-04\n",
            "Epoch 6/60\n",
            "328/328 [==============================] - ETA: 0s - loss: 0.5915 - acc: 0.7841\n",
            "Epoch 00006: val_loss did not improve from 0.71175\n",
            "328/328 [==============================] - 20s 62ms/step - loss: 0.5915 - acc: 0.7841 - val_loss: 0.7199 - val_acc: 0.7222 - lr: 1.0000e-04\n",
            "Epoch 7/60\n",
            "328/328 [==============================] - ETA: 0s - loss: 0.5312 - acc: 0.8108\n",
            "Epoch 00007: val_loss did not improve from 0.71175\n",
            "328/328 [==============================] - 20s 62ms/step - loss: 0.5312 - acc: 0.8108 - val_loss: 0.7265 - val_acc: 0.7228 - lr: 1.0000e-04\n",
            "Epoch 8/60\n",
            "328/328 [==============================] - ETA: 0s - loss: 0.4728 - acc: 0.8347\n",
            "Epoch 00008: val_loss did not improve from 0.71175\n",
            "328/328 [==============================] - 20s 62ms/step - loss: 0.4728 - acc: 0.8347 - val_loss: 0.7323 - val_acc: 0.7328 - lr: 1.0000e-04\n",
            "Epoch 9/60\n",
            "328/328 [==============================] - ETA: 0s - loss: 0.4040 - acc: 0.8576\n",
            "Epoch 00009: val_loss did not improve from 0.71175\n",
            "328/328 [==============================] - 20s 62ms/step - loss: 0.4040 - acc: 0.8576 - val_loss: 0.8036 - val_acc: 0.7164 - lr: 1.0000e-04\n",
            "Epoch 10/60\n",
            "328/328 [==============================] - ETA: 0s - loss: 0.3470 - acc: 0.8828\n",
            "Epoch 00010: val_loss did not improve from 0.71175\n",
            "328/328 [==============================] - 20s 62ms/step - loss: 0.3470 - acc: 0.8828 - val_loss: 0.7799 - val_acc: 0.7348 - lr: 1.0000e-04\n",
            "Epoch 11/60\n",
            "328/328 [==============================] - ETA: 0s - loss: 0.2920 - acc: 0.9020\n",
            "Epoch 00011: val_loss did not improve from 0.71175\n",
            "\n",
            "Epoch 00011: ReduceLROnPlateau reducing learning rate to 1.9999999494757503e-05.\n",
            "328/328 [==============================] - 20s 61ms/step - loss: 0.2920 - acc: 0.9020 - val_loss: 0.9049 - val_acc: 0.7286 - lr: 1.0000e-04\n",
            "Epoch 12/60\n",
            "328/328 [==============================] - ETA: 0s - loss: 0.1488 - acc: 0.9548\n",
            "Epoch 00012: val_loss did not improve from 0.71175\n",
            "328/328 [==============================] - 20s 62ms/step - loss: 0.1488 - acc: 0.9548 - val_loss: 0.9582 - val_acc: 0.7390 - lr: 2.0000e-05\n",
            "Epoch 13/60\n",
            "328/328 [==============================] - ETA: 0s - loss: 0.1001 - acc: 0.9710\n",
            "Epoch 00013: val_loss did not improve from 0.71175\n",
            "328/328 [==============================] - 20s 61ms/step - loss: 0.1001 - acc: 0.9710 - val_loss: 1.0481 - val_acc: 0.7390 - lr: 2.0000e-05\n",
            "Epoch 14/60\n",
            "328/328 [==============================] - ETA: 0s - loss: 0.0775 - acc: 0.9788\n",
            "Epoch 00014: val_loss did not improve from 0.71175\n",
            "328/328 [==============================] - 20s 61ms/step - loss: 0.0775 - acc: 0.9788 - val_loss: 1.1330 - val_acc: 0.7348 - lr: 2.0000e-05\n",
            "Epoch 15/60\n",
            "328/328 [==============================] - ETA: 0s - loss: 0.0595 - acc: 0.9836\n",
            "Epoch 00015: val_loss did not improve from 0.71175\n",
            "Restoring model weights from the end of the best epoch: 5.\n",
            "328/328 [==============================] - 20s 61ms/step - loss: 0.0595 - acc: 0.9836 - val_loss: 1.1746 - val_acc: 0.7411 - lr: 2.0000e-05\n",
            "Epoch 00015: early stopping\n"
          ]
        }
      ],
      "source": [
        "hist = model.fit(x=training_set,\n",
        "                 validation_data = test_set,\n",
        "                 class_weight = class_weights,\n",
        "                 epochs=60,\n",
        "                 callbacks=callbacks,\n",
        "                 steps_per_epoch=steps_per_epoch,\n",
        "                 validation_steps=validation_steps)"
      ]
    },
    {
      "cell_type": "code",
      "execution_count": 35,
      "metadata": {
        "id": "iC8Ijp8oemIL"
      },
      "outputs": [],
      "source": [
        "loss = hist.history['loss']\n",
        "val_loss = hist.history['val_loss']"
      ]
    },
    {
      "cell_type": "code",
      "execution_count": 36,
      "metadata": {
        "colab": {
          "base_uri": "https://localhost:8080/",
          "height": 370
        },
        "id": "sCvUrLEPN2cB",
        "outputId": "9ee5fd53-f352-40d4-aa56-a970035b0e60"
      },
      "outputs": [
        {
          "data": {
            "image/png": "[encoded data removed]",
            "text/plain": [
              "<Figure size 1008x360 with 2 Axes>"
            ]
          },
          "metadata": {
            "needs_background": "light"
          },
          "output_type": "display_data"
        }
      ],
      "source": [
        "plt.figure(figsize=(14,5))\n",
        "plt.subplot(1,2,2)\n",
        "plt.plot(hist.history['acc'])\n",
        "plt.plot(hist.history['val_acc'])\n",
        "plt.title('Model Accuracy')\n",
        "plt.xlabel('Epochs')\n",
        "plt.ylabel('Accuracy')\n",
        "plt.legend(['train', 'test'], loc='upper left')\n",
        "\n",
        "plt.subplot(1,2,1)\n",
        "plt.plot(hist.history['loss'])\n",
        "plt.plot(hist.history['val_loss'])\n",
        "plt.title('model Loss')\n",
        "plt.xlabel('Epochs')\n",
        "plt.ylabel('Loss')\n",
        "plt.legend(['train', 'test'], loc='upper left')\n",
        "plt.show()"
      ]
    },
    {
      "cell_type": "markdown",
      "metadata": {
        "id": "SVZ3thDYN2cC"
      },
      "source": [
        "### Model evaluation"
      ]
    },
    {
      "cell_type": "code",
      "execution_count": 37,
      "metadata": {
        "id": "0W6uWLNRN2cC"
      },
      "outputs": [],
      "source": [
        "def model_data(model):\n",
        "    train_loss, train_accu = model.evaluate(training_set)\n",
        "    test_loss, test_accu = model.evaluate(test_set)\n",
        "    return print(\"final train accuracy = {:.2f} , validation accuracy = {:.2f}\".format(train_accu*100, test_accu*100))"
      ]
    },
    {
      "cell_type": "code",
      "execution_count": 38,
      "metadata": {
        "colab": {
          "base_uri": "https://localhost:8080/"
        },
        "id": "OPbNavr_N2cC",
        "outputId": "b8284113-a621-4430-9dc1-44f8ee996d7f"
      },
      "outputs": [
        {
          "name": "stdout",
          "output_type": "stream",
          "text": [
            "329/329 [==============================] - 9s 28ms/step - loss: 0.5400 - acc: 0.7945\n",
            "82/82 [==============================] - 2s 18ms/step - loss: 0.7105 - acc: 0.7222\n",
            "final train accuracy = 79.45 , validation accuracy = 72.22\n"
          ]
        }
      ],
      "source": [
        "model_data(model)"
      ]
    },
    {
      "cell_type": "code",
      "execution_count": 39,
      "metadata": {
        "id": "yfjz0H9AN2cD"
      },
      "outputs": [],
      "source": [
        "model.save_weights('final_weight.h5')"
      ]
    },
    {
      "cell_type": "markdown",
      "metadata": {
        "id": "Vo4sVDhsN2cD"
      },
      "source": [
        "### Confusion Matrix and Classification on training set"
      ]
    },
    {
      "cell_type": "code",
      "execution_count": 40,
      "metadata": {
        "id": "s7Ng0wmamfmN"
      },
      "outputs": [],
      "source": [
        "model.load_weights(\"model.h5\")"
      ]
    },
    {
      "cell_type": "code",
      "execution_count": 41,
      "metadata": {
        "colab": {
          "base_uri": "https://localhost:8080/"
        },
        "id": "6MowLEPnqPuP",
        "outputId": "428b583f-594e-4a5a-c861-ba922c418c01"
      },
      "outputs": [
        {
          "name": "stdout",
          "output_type": "stream",
          "text": [
            "Found 21005 images belonging to 4 classes.\n",
            "Found 5212 images belonging to 4 classes.\n"
          ]
        }
      ],
      "source": [
        "image_size= 48\n",
        "batch_size= 64\n",
        "train_datagen = ImageDataGenerator(rescale=1./255,\n",
        "                                   horizontal_flip=True,\n",
        "                                   rotation_range = 0.30)\n",
        "\n",
        "training_set = train_datagen.flow_from_directory(train_dir,\n",
        "                                                batch_size=64,\n",
        "                                                target_size=(image_size, image_size),\n",
        "                                                shuffle=False,\n",
        "                                                color_mode='rgb',\n",
        "                                                class_mode=\"categorical\")\n",
        "\n",
        "test_datagen = ImageDataGenerator(rescale=1./255)\n",
        "test_set = test_datagen.flow_from_directory(test_dir,\n",
        "                                                batch_size=64,\n",
        "                                                target_size=(image_size, image_size),\n",
        "                                                shuffle=False,\n",
        "                                                color_mode='rgb',\n",
        "                                                class_mode='categorical')"
      ]
    },
    {
      "cell_type": "code",
      "execution_count": 42,
      "metadata": {
        "id": "NeBvOIWvCRA9"
      },
      "outputs": [
        {
          "name": "stderr",
          "output_type": "stream",
          "text": [
            "2021-12-11 18:14:17.962966: I tensorflow/core/grappler/optimizers/custom_graph_optimizer_registry.cc:112] Plugin optimizer for device_type GPU is enabled.\n"
          ]
        }
      ],
      "source": [
        "y_pred = model.predict(training_set)\n"
      ]
    },
    {
      "cell_type": "code",
      "execution_count": 43,
      "metadata": {
        "colab": {
          "base_uri": "https://localhost:8080/"
        },
        "id": "G5qvBRj3Cfjd",
        "outputId": "be9e7ca1-6094-4f93-adda-efc281898710"
      },
      "outputs": [
        {
          "data": {
            "text/plain": [
              "{'angry': 0, 'happy': 1, 'neutral': 2, 'sad': 3}"
            ]
          },
          "execution_count": 43,
          "metadata": {},
          "output_type": "execute_result"
        }
      ],
      "source": [
        "test_set.class_indices"
      ]
    },
    {
      "cell_type": "code",
      "execution_count": 44,
      "metadata": {
        "colab": {
          "base_uri": "https://localhost:8080/",
          "height": 771
        },
        "id": "yCEh4cDON2cE",
        "outputId": "9672e693-68b3-492f-96e0-8cd4d08a56e6"
      },
      "outputs": [
        {
          "name": "stdout",
          "output_type": "stream",
          "text": [
            "Confusion Matrix\n",
            "[[3182   87  439  287]\n",
            " [ 162 6393  607   53]\n",
            " [ 286  178 3973  528]\n",
            " [ 605  140  905 3180]]\n",
            "Classification Report\n",
            "              precision    recall  f1-score   support\n",
            "\n",
            "       angry       0.75      0.80      0.77      3995\n",
            "       happy       0.94      0.89      0.91      7215\n",
            "     neutral       0.67      0.80      0.73      4965\n",
            "         sad       0.79      0.66      0.72      4830\n",
            "\n",
            "    accuracy                           0.80     21005\n",
            "   macro avg       0.79      0.79      0.78     21005\n",
            "weighted avg       0.81      0.80      0.80     21005\n",
            "\n"
          ]
        },
        {
          "data": {
            "image/png": "[encoded data removed]",
            "text/plain": [
              "<Figure size 576x576 with 2 Axes>"
            ]
          },
          "metadata": {
            "needs_background": "light"
          },
          "output_type": "display_data"
        }
      ],
      "source": [
        "y_pred = model.predict(training_set)\n",
        "y_pred = np.argmax(y_pred, axis=1)\n",
        "class_labels = test_set.class_indices\n",
        "class_labels = {v:k for k,v in class_labels.items()}\n",
        "\n",
        "from sklearn.metrics import classification_report, confusion_matrix,roc_auc_score\n",
        "# print(roc_auc_score(training_set.classes, y_pred))\n",
        "\n",
        "cm_train = confusion_matrix(training_set.classes, y_pred)\n",
        "print('Confusion Matrix')\n",
        "print(cm_train)\n",
        "print('Classification Report')\n",
        "target_names = list(class_labels.values())\n",
        "print(classification_report(training_set.classes, y_pred, target_names=target_names))\n",
        "\n",
        "plt.figure(figsize=(8,8))\n",
        "plt.imshow(cm_train, interpolation='nearest')\n",
        "plt.colorbar()\n",
        "tick_mark = np.arange(len(target_names))\n",
        "_ = plt.xticks(tick_mark, target_names, rotation=90)\n",
        "_ = plt.yticks(tick_mark, target_names)"
      ]
    },
    {
      "cell_type": "markdown",
      "metadata": {
        "id": "Slr1FAH0N2cE"
      },
      "source": [
        "### Confusion Matrix and Classification on test set"
      ]
    },
    {
      "cell_type": "code",
      "execution_count": 45,
      "metadata": {
        "id": "0AXHm7PTwlmN"
      },
      "outputs": [],
      "source": [
        "y_pred = model.predict(test_set)"
      ]
    },
    {
      "cell_type": "code",
      "execution_count": 46,
      "metadata": {
        "colab": {
          "base_uri": "https://localhost:8080/"
        },
        "id": "HmwQbhMUwu7A",
        "outputId": "351b8a2a-5289-4ae5-d185-959a4f96afab"
      },
      "outputs": [
        {
          "data": {
            "text/plain": [
              "array([[0.94534355, 0.02200171, 0.00400012, 0.02865467],\n",
              "       [0.8965067 , 0.02969099, 0.02385886, 0.04994348],\n",
              "       [0.03354139, 0.00437105, 0.02002922, 0.9420584 ],\n",
              "       ...,\n",
              "       [0.05427552, 0.00924007, 0.83701485, 0.09946958],\n",
              "       [0.01545079, 0.6335481 , 0.19668965, 0.15431145],\n",
              "       [0.24365292, 0.00272753, 0.03505842, 0.7185611 ]], dtype=float32)"
            ]
          },
          "execution_count": 46,
          "metadata": {},
          "output_type": "execute_result"
        }
      ],
      "source": [
        "y_pred"
      ]
    },
    {
      "cell_type": "code",
      "execution_count": 47,
      "metadata": {
        "colab": {
          "base_uri": "https://localhost:8080/"
        },
        "id": "KdLUqThRxsMC",
        "outputId": "2ee92ebe-df7f-46a8-d0a9-b331caadb82c"
      },
      "outputs": [
        {
          "data": {
            "text/plain": [
              "array([[0.94534355, 0.02200171, 0.00400012, 0.02865467],\n",
              "       [0.8965067 , 0.02969099, 0.02385886, 0.04994348],\n",
              "       [0.03354139, 0.00437105, 0.02002922, 0.9420584 ],\n",
              "       ...,\n",
              "       [0.05427552, 0.00924007, 0.83701485, 0.09946958],\n",
              "       [0.01545079, 0.6335481 , 0.19668965, 0.15431145],\n",
              "       [0.24365292, 0.00272753, 0.03505842, 0.7185611 ]], dtype=float32)"
            ]
          },
          "execution_count": 47,
          "metadata": {},
          "output_type": "execute_result"
        }
      ],
      "source": [
        "y_pred"
      ]
    },
    {
      "cell_type": "code",
      "execution_count": 48,
      "metadata": {
        "colab": {
          "base_uri": "https://localhost:8080/",
          "height": 771
        },
        "id": "z1dMhUI3N2cE",
        "outputId": "040f3be1-3009-47ec-f0ca-579f295fdc85"
      },
      "outputs": [
        {
          "name": "stdout",
          "output_type": "stream",
          "text": [
            "Confusion Matrix\n",
            "[[ 676   46  127  109]\n",
            " [  65 1508  179   22]\n",
            " [ 106   45  915  167]\n",
            " [ 225   82  275  665]]\n",
            "Classification Report\n",
            "              precision    recall  f1-score   support\n",
            "\n",
            "       angry       0.63      0.71      0.67       958\n",
            "       happy       0.90      0.85      0.87      1774\n",
            "     neutral       0.61      0.74      0.67      1233\n",
            "         sad       0.69      0.53      0.60      1247\n",
            "\n",
            "    accuracy                           0.72      5212\n",
            "   macro avg       0.71      0.71      0.70      5212\n",
            "weighted avg       0.73      0.72      0.72      5212\n",
            "\n"
          ]
        },
        {
          "data": {
            "image/png": "[encoded data removed]",
            "text/plain": [
              "<Figure size 576x576 with 2 Axes>"
            ]
          },
          "metadata": {
            "needs_background": "light"
          },
          "output_type": "display_data"
        }
      ],
      "source": [
        "y_pred = model.predict(test_set)\n",
        "y_pred = np.argmax(y_pred, axis = 1)\n",
        "class_labels = test_set.class_indices\n",
        "class_labels = {v:k for k,v in class_labels.items()}\n",
        "\n",
        "from sklearn.metrics import classification_report, confusion_matrix\n",
        "cm_test = confusion_matrix(test_set.classes, y_pred)\n",
        "print('Confusion Matrix')\n",
        "print(cm_test)\n",
        "print('Classification Report')\n",
        "target_names = list(class_labels.values())\n",
        "print(classification_report(test_set.classes, y_pred, target_names=target_names))\n",
        "\n",
        "plt.figure(figsize=(8,8))\n",
        "plt.imshow(cm_test, interpolation='nearest')\n",
        "plt.colorbar()\n",
        "tick_mark = np.arange(len(target_names))\n",
        "_ = plt.xticks(tick_mark, target_names, rotation=90)\n",
        "_ = plt.yticks(tick_mark, target_names)"
      ]
    },
    {
      "cell_type": "code",
      "execution_count": null,
      "metadata": {},
      "outputs": [],
      "source": []
    }
  ],
  "metadata": {
    "accelerator": "GPU",
    "colab": {
      "collapsed_sections": [],
      "machine_shape": "hm",
      "name": "facial_emotion_recogination_new.ipynb",
      "provenance": []
    },
    "kernelspec": {
      "display_name": "Python 3",
      "language": "python",
      "name": "python3"
    },
    "language_info": {
      "codemirror_mode": {
        "name": "ipython",
        "version": 3
      },
      "file_extension": ".py",
      "mimetype": "text/x-python",
      "name": "python",
      "nbconvert_exporter": "python",
      "pygments_lexer": "ipython3",
      "version": "3.9.7"
    },
    "widgets": {
      "application/vnd.jupyter.widget-state+json": {
        "07a87f09880042f6acce381a40b9fe53": {
          "model_module": "@jupyter-widgets/base",
          "model_module_version": "1.2.0",
          "model_name": "LayoutModel",
          "state": {
            "_model_module": "@jupyter-widgets/base",
            "_model_module_version": "1.2.0",
            "_model_name": "LayoutModel",
            "_view_count": null,
            "_view_module": "@jupyter-widgets/base",
            "_view_module_version": "1.2.0",
            "_view_name": "LayoutView",
            "align_content": null,
            "align_items": null,
            "align_self": null,
            "border": null,
            "bottom": null,
            "display": null,
            "flex": null,
            "flex_flow": null,
            "grid_area": null,
            "grid_auto_columns": null,
            "grid_auto_flow": null,
            "grid_auto_rows": null,
            "grid_column": null,
            "grid_gap": null,
            "grid_row": null,
            "grid_template_areas": null,
            "grid_template_columns": null,
            "grid_template_rows": null,
            "height": null,
            "justify_content": null,
            "justify_items": null,
            "left": null,
            "margin": null,
            "max_height": null,
            "max_width": null,
            "min_height": null,
            "min_width": null,
            "object_fit": null,
            "object_position": null,
            "order": null,
            "overflow": null,
            "overflow_x": null,
            "overflow_y": null,
            "padding": null,
            "right": null,
            "top": null,
            "visibility": null,
            "width": null
          }
        },
        "102f4afe2348455fb1595206bf3de080": {
          "model_module": "@jupyter-widgets/base",
          "model_module_version": "1.2.0",
          "model_name": "LayoutModel",
          "state": {
            "_model_module": "@jupyter-widgets/base",
            "_model_module_version": "1.2.0",
            "_model_name": "LayoutModel",
            "_view_count": null,
            "_view_module": "@jupyter-widgets/base",
            "_view_module_version": "1.2.0",
            "_view_name": "LayoutView",
            "align_content": null,
            "align_items": null,
            "align_self": null,
            "border": null,
            "bottom": null,
            "display": null,
            "flex": null,
            "flex_flow": null,
            "grid_area": null,
            "grid_auto_columns": null,
            "grid_auto_flow": null,
            "grid_auto_rows": null,
            "grid_column": null,
            "grid_gap": null,
            "grid_row": null,
            "grid_template_areas": null,
            "grid_template_columns": null,
            "grid_template_rows": null,
            "height": null,
            "justify_content": null,
            "justify_items": null,
            "left": null,
            "margin": null,
            "max_height": null,
            "max_width": null,
            "min_height": null,
            "min_width": null,
            "object_fit": null,
            "object_position": null,
            "order": null,
            "overflow": null,
            "overflow_x": null,
            "overflow_y": null,
            "padding": null,
            "right": null,
            "top": null,
            "visibility": null,
            "width": null
          }
        },
        "2dba46c1de924915bceaf417c8f5719b": {
          "model_module": "@jupyter-widgets/controls",
          "model_module_version": "1.5.0",
          "model_name": "DescriptionStyleModel",
          "state": {
            "_model_module": "@jupyter-widgets/controls",
            "_model_module_version": "1.5.0",
            "_model_name": "DescriptionStyleModel",
            "_view_count": null,
            "_view_module": "@jupyter-widgets/base",
            "_view_module_version": "1.2.0",
            "_view_name": "StyleView",
            "description_width": ""
          }
        },
        "4ebc192a44b2493faee5d7c45f3013bc": {
          "model_module": "@jupyter-widgets/controls",
          "model_module_version": "1.5.0",
          "model_name": "VBoxModel",
          "state": {
            "_dom_classes": [],
            "_model_module": "@jupyter-widgets/controls",
            "_model_module_version": "1.5.0",
            "_model_name": "VBoxModel",
            "_view_count": null,
            "_view_module": "@jupyter-widgets/controls",
            "_view_module_version": "1.5.0",
            "_view_name": "VBoxView",
            "box_style": "",
            "children": [
              "IPY_MODEL_8e7e57174f7a4f629fa0666cfd3744ca",
              "IPY_MODEL_9ee96f5455b84e4388280522fc27b265"
            ],
            "layout": "IPY_MODEL_07a87f09880042f6acce381a40b9fe53"
          }
        },
        "8e7e57174f7a4f629fa0666cfd3744ca": {
          "model_module": "@jupyter-widgets/controls",
          "model_module_version": "1.5.0",
          "model_name": "LabelModel",
          "state": {
            "_dom_classes": [],
            "_model_module": "@jupyter-widgets/controls",
            "_model_module_version": "1.5.0",
            "_model_name": "LabelModel",
            "_view_count": null,
            "_view_module": "@jupyter-widgets/controls",
            "_view_module_version": "1.5.0",
            "_view_name": "LabelView",
            "description": "",
            "description_tooltip": null,
            "layout": "IPY_MODEL_91d3ebecd5bc48f89e19b6b06eb46284",
            "placeholder": "​",
            "style": "IPY_MODEL_2dba46c1de924915bceaf417c8f5719b",
            "value": " 0.01MB of 0.01MB uploaded (0.00MB deduped)\r"
          }
        },
        "91d3ebecd5bc48f89e19b6b06eb46284": {
          "model_module": "@jupyter-widgets/base",
          "model_module_version": "1.2.0",
          "model_name": "LayoutModel",
          "state": {
            "_model_module": "@jupyter-widgets/base",
            "_model_module_version": "1.2.0",
            "_model_name": "LayoutModel",
            "_view_count": null,
            "_view_module": "@jupyter-widgets/base",
            "_view_module_version": "1.2.0",
            "_view_name": "LayoutView",
            "align_content": null,
            "align_items": null,
            "align_self": null,
            "border": null,
            "bottom": null,
            "display": null,
            "flex": null,
            "flex_flow": null,
            "grid_area": null,
            "grid_auto_columns": null,
            "grid_auto_flow": null,
            "grid_auto_rows": null,
            "grid_column": null,
            "grid_gap": null,
            "grid_row": null,
            "grid_template_areas": null,
            "grid_template_columns": null,
            "grid_template_rows": null,
            "height": null,
            "justify_content": null,
            "justify_items": null,
            "left": null,
            "margin": null,
            "max_height": null,
            "max_width": null,
            "min_height": null,
            "min_width": null,
            "object_fit": null,
            "object_position": null,
            "order": null,
            "overflow": null,
            "overflow_x": null,
            "overflow_y": null,
            "padding": null,
            "right": null,
            "top": null,
            "visibility": null,
            "width": null
          }
        },
        "9ee96f5455b84e4388280522fc27b265": {
          "model_module": "@jupyter-widgets/controls",
          "model_module_version": "1.5.0",
          "model_name": "FloatProgressModel",
          "state": {
            "_dom_classes": [],
            "_model_module": "@jupyter-widgets/controls",
            "_model_module_version": "1.5.0",
            "_model_name": "FloatProgressModel",
            "_view_count": null,
            "_view_module": "@jupyter-widgets/controls",
            "_view_module_version": "1.5.0",
            "_view_name": "ProgressView",
            "bar_style": "",
            "description": "",
            "description_tooltip": null,
            "layout": "IPY_MODEL_102f4afe2348455fb1595206bf3de080",
            "max": 1,
            "min": 0,
            "orientation": "horizontal",
            "style": "IPY_MODEL_a4633cb0f95c4d17befa2dfd854f5b70",
            "value": 1
          }
        },
        "a4633cb0f95c4d17befa2dfd854f5b70": {
          "model_module": "@jupyter-widgets/controls",
          "model_module_version": "1.5.0",
          "model_name": "ProgressStyleModel",
          "state": {
            "_model_module": "@jupyter-widgets/controls",
            "_model_module_version": "1.5.0",
            "_model_name": "ProgressStyleModel",
            "_view_count": null,
            "_view_module": "@jupyter-widgets/base",
            "_view_module_version": "1.2.0",
            "_view_name": "StyleView",
            "bar_color": null,
            "description_width": ""
          }
        }
      }
    }
  },
  "nbformat": 4,
  "nbformat_minor": 0
}
