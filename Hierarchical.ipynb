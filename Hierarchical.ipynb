{
  "cells": [
    {
      "cell_type": "code",
      "execution_count": 1,
      "metadata": {
        "colab": {
          "base_uri": "https://localhost:8080/"
        },
        "id": "P0OPfbP37M9l",
        "outputId": "0f51efdb-547f-4642-a6d4-efce411f1fda"
      },
      "outputs": [
        {
          "name": "stdout",
          "output_type": "stream",
          "text": [
            "Mounted at /content/drive\n"
          ]
        }
      ],
      "source": [
        "from google.colab import drive\n",
        "drive.mount('/content/drive')"
      ]
    },
    {
      "cell_type": "code",
      "execution_count": 2,
      "metadata": {
        "id": "eG5zGvQJ7LUE"
      },
      "outputs": [],
      "source": [
        "# Importing the libraries\n",
        "import numpy as np\n",
        "import matplotlib.pyplot as plt\n",
        "import pandas as pd\n",
        "%matplotlib inline"
      ]
    },
    {
      "cell_type": "code",
      "execution_count": 3,
      "metadata": {
        "colab": {
          "base_uri": "https://localhost:8080/"
        },
        "id": "cLCgq6nI7LUL",
        "outputId": "c851c2ef-8520-4bdd-9f96-75af5453a3e1"
      },
      "outputs": [
        {
          "data": {
            "text/plain": [
              "(686, 9)"
            ]
          },
          "execution_count": 3,
          "metadata": {},
          "output_type": "execute_result"
        }
      ],
      "source": [
        "# Importing the dataset\n",
        "dataset = pd.read_csv('/content/drive/MyDrive/FE-test/MRSFEA-new/Music/MusicData.csv')\n",
        "columns = [\"length\",\"danceability\",\"acousticness\",\"energy\",\"instrumentalness\",\"valence\",\"loudness\",\"speechiness\",\"tempo\"]\n",
        "data = dataset[columns]\n",
        "data.shape"
      ]
    },
    {
      "cell_type": "code",
      "execution_count": 4,
      "metadata": {
        "colab": {
          "base_uri": "https://localhost:8080/",
          "height": 204
        },
        "id": "dVanCDx07LUN",
        "outputId": "a2318d8d-6eb5-40a5-ecf5-8c20e726e258"
      },
      "outputs": [
        {
          "data": {
            "text/html": [
              "<div>\n",
              "<style scoped>\n",
              "    .dataframe tbody tr th:only-of-type {\n",
              "        vertical-align: middle;\n",
              "    }\n",
              "\n",
              "    .dataframe tbody tr th {\n",
              "        vertical-align: top;\n",
              "    }\n",
              "\n",
              "    .dataframe thead th {\n",
              "        text-align: right;\n",
              "    }\n",
              "</style>\n",
              "<table border=\"1\" class=\"dataframe\">\n",
              "  <thead>\n",
              "    <tr style=\"text-align: right;\">\n",
              "      <th></th>\n",
              "      <th>length</th>\n",
              "      <th>danceability</th>\n",
              "      <th>acousticness</th>\n",
              "      <th>energy</th>\n",
              "      <th>instrumentalness</th>\n",
              "      <th>valence</th>\n",
              "      <th>loudness</th>\n",
              "      <th>speechiness</th>\n",
              "      <th>tempo</th>\n",
              "    </tr>\n",
              "  </thead>\n",
              "  <tbody>\n",
              "    <tr>\n",
              "      <th>0</th>\n",
              "      <td>379266</td>\n",
              "      <td>0.866</td>\n",
              "      <td>0.13700</td>\n",
              "      <td>0.730</td>\n",
              "      <td>0.000000</td>\n",
              "      <td>0.625</td>\n",
              "      <td>-8.201</td>\n",
              "      <td>0.0767</td>\n",
              "      <td>118.523</td>\n",
              "    </tr>\n",
              "    <tr>\n",
              "      <th>1</th>\n",
              "      <td>318800</td>\n",
              "      <td>0.381</td>\n",
              "      <td>0.01890</td>\n",
              "      <td>0.832</td>\n",
              "      <td>0.196000</td>\n",
              "      <td>0.166</td>\n",
              "      <td>-5.069</td>\n",
              "      <td>0.0492</td>\n",
              "      <td>120.255</td>\n",
              "    </tr>\n",
              "    <tr>\n",
              "      <th>2</th>\n",
              "      <td>217946</td>\n",
              "      <td>0.346</td>\n",
              "      <td>0.91300</td>\n",
              "      <td>0.139</td>\n",
              "      <td>0.000077</td>\n",
              "      <td>0.116</td>\n",
              "      <td>-15.326</td>\n",
              "      <td>0.0321</td>\n",
              "      <td>136.168</td>\n",
              "    </tr>\n",
              "    <tr>\n",
              "      <th>3</th>\n",
              "      <td>233000</td>\n",
              "      <td>0.466</td>\n",
              "      <td>0.08900</td>\n",
              "      <td>0.438</td>\n",
              "      <td>0.000006</td>\n",
              "      <td>0.587</td>\n",
              "      <td>-12.858</td>\n",
              "      <td>0.0608</td>\n",
              "      <td>193.100</td>\n",
              "    </tr>\n",
              "    <tr>\n",
              "      <th>4</th>\n",
              "      <td>268000</td>\n",
              "      <td>0.419</td>\n",
              "      <td>0.00171</td>\n",
              "      <td>0.932</td>\n",
              "      <td>0.000000</td>\n",
              "      <td>0.445</td>\n",
              "      <td>-3.604</td>\n",
              "      <td>0.1060</td>\n",
              "      <td>169.881</td>\n",
              "    </tr>\n",
              "  </tbody>\n",
              "</table>\n",
              "</div>"
            ],
            "text/plain": [
              "   length  danceability  acousticness  ...  loudness  speechiness    tempo\n",
              "0  379266         0.866       0.13700  ...    -8.201       0.0767  118.523\n",
              "1  318800         0.381       0.01890  ...    -5.069       0.0492  120.255\n",
              "2  217946         0.346       0.91300  ...   -15.326       0.0321  136.168\n",
              "3  233000         0.466       0.08900  ...   -12.858       0.0608  193.100\n",
              "4  268000         0.419       0.00171  ...    -3.604       0.1060  169.881\n",
              "\n",
              "[5 rows x 9 columns]"
            ]
          },
          "execution_count": 4,
          "metadata": {},
          "output_type": "execute_result"
        }
      ],
      "source": [
        "data.head()"
      ]
    },
    {
      "cell_type": "code",
      "execution_count": 5,
      "metadata": {
        "colab": {
          "base_uri": "https://localhost:8080/",
          "height": 276
        },
        "id": "Dv896wd17LUN",
        "outputId": "a354845c-fe96-40d5-95cb-4806f2cb54a1"
      },
      "outputs": [
        {
          "data": {
            "image/png": "[encoded data removed]",
            "text/plain": [
              "<Figure size 432x288 with 1 Axes>"
            ]
          },
          "metadata": {
            "needs_background": "light"
          },
          "output_type": "display_data"
        }
      ],
      "source": [
        "import seaborn as sns\n",
        "# Using Dendrograms to find the right number of clustres \n",
        "\n",
        "import scipy.cluster.hierarchy as sch\n",
        "\n",
        "dendrogram = sch.dendrogram(sch.linkage(data, method = 'ward'))"
      ]
    },
    {
      "cell_type": "code",
      "execution_count": 6,
      "metadata": {
        "colab": {
          "base_uri": "https://localhost:8080/"
        },
        "id": "Rrl29Uaf7LUO",
        "outputId": "f9655698-1fe6-4c9c-c028-f633f87898d0"
      },
      "outputs": [
        {
          "data": {
            "text/plain": [
              "array([0, 1, 2])"
            ]
          },
          "execution_count": 6,
          "metadata": {},
          "output_type": "execute_result"
        }
      ],
      "source": [
        "# Fitting Agglomerative clustering to the dataset\n",
        "from sklearn.cluster import AgglomerativeClustering\n",
        "from sklearn.preprocessing import StandardScaler\n",
        "\n",
        "agglomerative = AgglomerativeClustering(affinity='euclidean', linkage='ward', n_clusters = 3)\n",
        "\n",
        "sc1 = StandardScaler()\n",
        "scaled_data1 = sc1.fit_transform(data)\n",
        "labels = agglomerative.fit_predict(scaled_data1)\n",
        "\n",
        "np.unique(labels)"
      ]
    },
    {
      "cell_type": "code",
      "execution_count": 7,
      "metadata": {
        "colab": {
          "base_uri": "https://localhost:8080/"
        },
        "id": "imf293YW7LUP",
        "outputId": "03d5cbb1-c849-4e2c-9ff2-eb72a2e2967a"
      },
      "outputs": [
        {
          "data": {
            "text/plain": [
              "(686, 9)"
            ]
          },
          "execution_count": 7,
          "metadata": {},
          "output_type": "execute_result"
        }
      ],
      "source": [
        "scaled_data1.shape"
      ]
    },
    {
      "cell_type": "code",
      "execution_count": 8,
      "metadata": {
        "colab": {
          "base_uri": "https://localhost:8080/"
        },
        "id": "ChK4QmGS7LUQ",
        "outputId": "95534b2f-c1bb-4d44-af02-9a1f71acbcea"
      },
      "outputs": [
        {
          "name": "stderr",
          "output_type": "stream",
          "text": [
            "/usr/local/lib/python3.7/dist-packages/ipykernel_launcher.py:1: SettingWithCopyWarning: \n",
            "A value is trying to be set on a copy of a slice from a DataFrame.\n",
            "Try using .loc[row_indexer,col_indexer] = value instead\n",
            "\n",
            "See the caveats in the documentation: https://pandas.pydata.org/pandas-docs/stable/user_guide/indexing.html#returning-a-view-versus-a-copy\n",
            "  \"\"\"Entry point for launching an IPython kernel.\n"
          ]
        }
      ],
      "source": [
        "data[\"labels\"] = labels"
      ]
    },
    {
      "cell_type": "code",
      "execution_count": 9,
      "metadata": {
        "colab": {
          "base_uri": "https://localhost:8080/"
        },
        "id": "Px4f4A8O7LUR",
        "outputId": "676e2f61-89fa-4560-9e4d-9e19617c1564"
      },
      "outputs": [
        {
          "data": {
            "text/plain": [
              "(686, 9)"
            ]
          },
          "execution_count": 9,
          "metadata": {},
          "output_type": "execute_result"
        }
      ],
      "source": [
        "scaled_data1.shape"
      ]
    },
    {
      "cell_type": "code",
      "execution_count": 10,
      "metadata": {
        "colab": {
          "base_uri": "https://localhost:8080/"
        },
        "id": "wVmym2Yl7LUS",
        "outputId": "3b8c71d7-e1cb-49cd-d88d-4f2c5caaf15d"
      },
      "outputs": [
        {
          "name": "stdout",
          "output_type": "stream",
          "text": [
            "[0.45122597 0.13229815 0.1177151  0.09498706 0.07156423 0.05747778\n",
            " 0.04891066]\n",
            "Index(['length', 'danceability', 'acousticness', 'energy', 'instrumentalness',\n",
            "       'valence', 'loudness', 'speechiness', 'tempo', 'labels'],\n",
            "      dtype='object')\n"
          ]
        }
      ],
      "source": [
        "from sklearn.decomposition import PCA\n",
        "\n",
        "from sklearn.preprocessing import StandardScaler\n",
        "\n",
        "pca = PCA(n_components=0.95)\n",
        "\n",
        "sc = StandardScaler()\n",
        "scaled_data = sc.fit_transform(data.iloc[:,:-1])\n",
        "pca.fit(scaled_data)\n",
        "\n",
        "print(pca.explained_variance_ratio_)\n",
        "\n",
        "pca = PCA(n_components=2)\n",
        "pca.fit(scaled_data)\n",
        "transformed_data = pca.transform(scaled_data)\n",
        "\n",
        "print(data.columns)"
      ]
    },
    {
      "cell_type": "code",
      "execution_count": 11,
      "metadata": {
        "id": "urJFBTWL7LUT"
      },
      "outputs": [],
      "source": [
        "transformed_data = pd.DataFrame(transformed_data, columns = [\"PCA1\",\"PCA2\"])\n",
        "transformed_data[\"labels\"] = labels"
      ]
    },
    {
      "cell_type": "code",
      "execution_count": 12,
      "metadata": {
        "colab": {
          "base_uri": "https://localhost:8080/",
          "height": 352
        },
        "id": "6XuQsDAs7LUU",
        "outputId": "30cd04e7-e0be-49e4-ac78-22021ef7e67c"
      },
      "outputs": [
        {
          "data": {
            "text/plain": [
              "<matplotlib.axes._subplots.AxesSubplot at 0x7f11a6631d90>"
            ]
          },
          "execution_count": 12,
          "metadata": {},
          "output_type": "execute_result"
        },
        {
          "data": {
            "image/png": "[encoded data removed]",
            "text/plain": [
              "<Figure size 1080x360 with 1 Axes>"
            ]
          },
          "metadata": {
            "needs_background": "light"
          },
          "output_type": "display_data"
        }
      ],
      "source": [
        "plt.figure(figsize = (15,5))\n",
        "sns.scatterplot(data = transformed_data, x = \"PCA1\", y = \"PCA2\", hue = \"labels\", style = \"labels\", palette=\"viridis\")"
      ]
    },
    {
      "cell_type": "code",
      "execution_count": 13,
      "metadata": {
        "id": "8AErqlk57LUV"
      },
      "outputs": [],
      "source": [
        "### PCA is used to visualize the clusters"
      ]
    },
    {
      "cell_type": "code",
      "execution_count": 14,
      "metadata": {
        "id": "AxhDPLTX7LUV"
      },
      "outputs": [],
      "source": [
        "from sklearn.neighbors import NearestNeighbors"
      ]
    },
    {
      "cell_type": "code",
      "execution_count": 15,
      "metadata": {
        "colab": {
          "base_uri": "https://localhost:8080/",
          "height": 173
        },
        "id": "HHwCYC147LUW",
        "outputId": "d3fda5f8-9606-4ff5-d1c5-031db164058a"
      },
      "outputs": [
        {
          "data": {
            "text/html": [
              "<div>\n",
              "<style scoped>\n",
              "    .dataframe tbody tr th:only-of-type {\n",
              "        vertical-align: middle;\n",
              "    }\n",
              "\n",
              "    .dataframe tbody tr th {\n",
              "        vertical-align: top;\n",
              "    }\n",
              "\n",
              "    .dataframe thead th {\n",
              "        text-align: right;\n",
              "    }\n",
              "</style>\n",
              "<table border=\"1\" class=\"dataframe\">\n",
              "  <thead>\n",
              "    <tr style=\"text-align: right;\">\n",
              "      <th></th>\n",
              "      <th>length</th>\n",
              "      <th>danceability</th>\n",
              "      <th>acousticness</th>\n",
              "      <th>energy</th>\n",
              "      <th>instrumentalness</th>\n",
              "      <th>valence</th>\n",
              "      <th>loudness</th>\n",
              "      <th>speechiness</th>\n",
              "      <th>tempo</th>\n",
              "    </tr>\n",
              "    <tr>\n",
              "      <th>labels</th>\n",
              "      <th></th>\n",
              "      <th></th>\n",
              "      <th></th>\n",
              "      <th></th>\n",
              "      <th></th>\n",
              "      <th></th>\n",
              "      <th></th>\n",
              "      <th></th>\n",
              "      <th></th>\n",
              "    </tr>\n",
              "  </thead>\n",
              "  <tbody>\n",
              "    <tr>\n",
              "      <th>0</th>\n",
              "      <td>221233.174847</td>\n",
              "      <td>0.573221</td>\n",
              "      <td>0.105007</td>\n",
              "      <td>0.787472</td>\n",
              "      <td>0.107613</td>\n",
              "      <td>0.508834</td>\n",
              "      <td>-6.256773</td>\n",
              "      <td>0.070064</td>\n",
              "      <td>126.765819</td>\n",
              "    </tr>\n",
              "    <tr>\n",
              "      <th>1</th>\n",
              "      <td>264623.725000</td>\n",
              "      <td>0.455902</td>\n",
              "      <td>0.607016</td>\n",
              "      <td>0.365848</td>\n",
              "      <td>0.177386</td>\n",
              "      <td>0.223786</td>\n",
              "      <td>-11.163988</td>\n",
              "      <td>0.038094</td>\n",
              "      <td>115.811506</td>\n",
              "    </tr>\n",
              "    <tr>\n",
              "      <th>2</th>\n",
              "      <td>188435.740000</td>\n",
              "      <td>0.417824</td>\n",
              "      <td>0.885866</td>\n",
              "      <td>0.165130</td>\n",
              "      <td>0.881845</td>\n",
              "      <td>0.166133</td>\n",
              "      <td>-20.421670</td>\n",
              "      <td>0.040356</td>\n",
              "      <td>109.354460</td>\n",
              "    </tr>\n",
              "  </tbody>\n",
              "</table>\n",
              "</div>"
            ],
            "text/plain": [
              "               length  danceability  ...  speechiness       tempo\n",
              "labels                               ...                         \n",
              "0       221233.174847      0.573221  ...     0.070064  126.765819\n",
              "1       264623.725000      0.455902  ...     0.038094  115.811506\n",
              "2       188435.740000      0.417824  ...     0.040356  109.354460\n",
              "\n",
              "[3 rows x 9 columns]"
            ]
          },
          "execution_count": 15,
          "metadata": {},
          "output_type": "execute_result"
        }
      ],
      "source": [
        "nn = NearestNeighbors(n_neighbors=10, radius = 10, metric = \"euclidean\")\n",
        "\n",
        "scaled_data1.shape\n",
        "\n",
        "nn.fit(scaled_data1)\n",
        "\n",
        "data.groupby(\"labels\").mean()"
      ]
    },
    {
      "cell_type": "code",
      "execution_count": 16,
      "metadata": {
        "id": "5dnNLF6B7LUX"
      },
      "outputs": [],
      "source": [
        "cluster_means = sc1.transform(data.groupby(\"labels\").mean())"
      ]
    },
    {
      "cell_type": "code",
      "execution_count": 17,
      "metadata": {
        "colab": {
          "base_uri": "https://localhost:8080/",
          "height": 359
        },
        "id": "wNpPq0vU7LUY",
        "outputId": "4725848a-32b7-4cbe-94b1-bcc95798f517"
      },
      "outputs": [
        {
          "data": {
            "text/html": [
              "<div>\n",
              "<style scoped>\n",
              "    .dataframe tbody tr th:only-of-type {\n",
              "        vertical-align: middle;\n",
              "    }\n",
              "\n",
              "    .dataframe tbody tr th {\n",
              "        vertical-align: top;\n",
              "    }\n",
              "\n",
              "    .dataframe thead th {\n",
              "        text-align: right;\n",
              "    }\n",
              "</style>\n",
              "<table border=\"1\" class=\"dataframe\">\n",
              "  <thead>\n",
              "    <tr style=\"text-align: right;\">\n",
              "      <th></th>\n",
              "      <th>length</th>\n",
              "      <th>danceability</th>\n",
              "      <th>acousticness</th>\n",
              "      <th>energy</th>\n",
              "      <th>instrumentalness</th>\n",
              "      <th>valence</th>\n",
              "      <th>loudness</th>\n",
              "      <th>speechiness</th>\n",
              "      <th>tempo</th>\n",
              "      <th>labels</th>\n",
              "    </tr>\n",
              "  </thead>\n",
              "  <tbody>\n",
              "    <tr>\n",
              "      <th>121</th>\n",
              "      <td>182222</td>\n",
              "      <td>0.391</td>\n",
              "      <td>0.969</td>\n",
              "      <td>0.23100</td>\n",
              "      <td>0.954</td>\n",
              "      <td>0.0882</td>\n",
              "      <td>-17.000</td>\n",
              "      <td>0.0363</td>\n",
              "      <td>107.981</td>\n",
              "      <td>2</td>\n",
              "    </tr>\n",
              "    <tr>\n",
              "      <th>263</th>\n",
              "      <td>163666</td>\n",
              "      <td>0.387</td>\n",
              "      <td>0.993</td>\n",
              "      <td>0.00579</td>\n",
              "      <td>0.929</td>\n",
              "      <td>0.1370</td>\n",
              "      <td>-21.823</td>\n",
              "      <td>0.0439</td>\n",
              "      <td>111.991</td>\n",
              "      <td>2</td>\n",
              "    </tr>\n",
              "    <tr>\n",
              "      <th>95</th>\n",
              "      <td>162085</td>\n",
              "      <td>0.421</td>\n",
              "      <td>0.940</td>\n",
              "      <td>0.13600</td>\n",
              "      <td>0.890</td>\n",
              "      <td>0.0505</td>\n",
              "      <td>-23.521</td>\n",
              "      <td>0.0305</td>\n",
              "      <td>110.036</td>\n",
              "      <td>2</td>\n",
              "    </tr>\n",
              "    <tr>\n",
              "      <th>562</th>\n",
              "      <td>177322</td>\n",
              "      <td>0.506</td>\n",
              "      <td>0.992</td>\n",
              "      <td>0.04340</td>\n",
              "      <td>0.866</td>\n",
              "      <td>0.0823</td>\n",
              "      <td>-19.948</td>\n",
              "      <td>0.0442</td>\n",
              "      <td>110.723</td>\n",
              "      <td>2</td>\n",
              "    </tr>\n",
              "    <tr>\n",
              "      <th>264</th>\n",
              "      <td>158666</td>\n",
              "      <td>0.479</td>\n",
              "      <td>0.771</td>\n",
              "      <td>0.22100</td>\n",
              "      <td>0.856</td>\n",
              "      <td>0.0890</td>\n",
              "      <td>-19.689</td>\n",
              "      <td>0.0325</td>\n",
              "      <td>115.965</td>\n",
              "      <td>2</td>\n",
              "    </tr>\n",
              "    <tr>\n",
              "      <th>158</th>\n",
              "      <td>226400</td>\n",
              "      <td>0.339</td>\n",
              "      <td>0.937</td>\n",
              "      <td>0.14200</td>\n",
              "      <td>0.910</td>\n",
              "      <td>0.1210</td>\n",
              "      <td>-21.613</td>\n",
              "      <td>0.0416</td>\n",
              "      <td>109.980</td>\n",
              "      <td>2</td>\n",
              "    </tr>\n",
              "    <tr>\n",
              "      <th>490</th>\n",
              "      <td>164703</td>\n",
              "      <td>0.437</td>\n",
              "      <td>0.984</td>\n",
              "      <td>0.07470</td>\n",
              "      <td>0.914</td>\n",
              "      <td>0.1750</td>\n",
              "      <td>-20.209</td>\n",
              "      <td>0.0648</td>\n",
              "      <td>117.078</td>\n",
              "      <td>2</td>\n",
              "    </tr>\n",
              "    <tr>\n",
              "      <th>550</th>\n",
              "      <td>205695</td>\n",
              "      <td>0.410</td>\n",
              "      <td>0.988</td>\n",
              "      <td>0.08450</td>\n",
              "      <td>0.930</td>\n",
              "      <td>0.0795</td>\n",
              "      <td>-21.814</td>\n",
              "      <td>0.0327</td>\n",
              "      <td>92.033</td>\n",
              "      <td>2</td>\n",
              "    </tr>\n",
              "    <tr>\n",
              "      <th>316</th>\n",
              "      <td>152456</td>\n",
              "      <td>0.383</td>\n",
              "      <td>0.988</td>\n",
              "      <td>0.10100</td>\n",
              "      <td>0.919</td>\n",
              "      <td>0.2420</td>\n",
              "      <td>-18.306</td>\n",
              "      <td>0.0427</td>\n",
              "      <td>119.709</td>\n",
              "      <td>2</td>\n",
              "    </tr>\n",
              "    <tr>\n",
              "      <th>448</th>\n",
              "      <td>200000</td>\n",
              "      <td>0.368</td>\n",
              "      <td>0.810</td>\n",
              "      <td>0.29300</td>\n",
              "      <td>0.864</td>\n",
              "      <td>0.1970</td>\n",
              "      <td>-16.379</td>\n",
              "      <td>0.0346</td>\n",
              "      <td>119.977</td>\n",
              "      <td>2</td>\n",
              "    </tr>\n",
              "  </tbody>\n",
              "</table>\n",
              "</div>"
            ],
            "text/plain": [
              "     length  danceability  acousticness  ...  speechiness    tempo  labels\n",
              "121  182222         0.391         0.969  ...       0.0363  107.981       2\n",
              "263  163666         0.387         0.993  ...       0.0439  111.991       2\n",
              "95   162085         0.421         0.940  ...       0.0305  110.036       2\n",
              "562  177322         0.506         0.992  ...       0.0442  110.723       2\n",
              "264  158666         0.479         0.771  ...       0.0325  115.965       2\n",
              "158  226400         0.339         0.937  ...       0.0416  109.980       2\n",
              "490  164703         0.437         0.984  ...       0.0648  117.078       2\n",
              "550  205695         0.410         0.988  ...       0.0327   92.033       2\n",
              "316  152456         0.383         0.988  ...       0.0427  119.709       2\n",
              "448  200000         0.368         0.810  ...       0.0346  119.977       2\n",
              "\n",
              "[10 rows x 10 columns]"
            ]
          },
          "execution_count": 17,
          "metadata": {},
          "output_type": "execute_result"
        }
      ],
      "source": [
        "select_cluster = 2\n",
        "\n",
        "cluster_means[select_cluster].reshape(1,-1)\n",
        "\n",
        "cluster1 = cluster_means[select_cluster].reshape(1,-1)\n",
        "distance, index = nn.kneighbors(X=cluster1, n_neighbors=10)\n",
        "\n",
        "data.loc[index[0]]"
      ]
    },
    {
      "cell_type": "code",
      "execution_count": 18,
      "metadata": {
        "colab": {
          "base_uri": "https://localhost:8080/"
        },
        "id": "V8Az9kzc7LUZ",
        "outputId": "ac4bbf63-3f02-4374-9305-76ff7efebc08"
      },
      "outputs": [
        {
          "name": "stderr",
          "output_type": "stream",
          "text": [
            "/usr/local/lib/python3.7/dist-packages/ipykernel_launcher.py:1: SettingWithCopyWarning: \n",
            "A value is trying to be set on a copy of a slice from a DataFrame.\n",
            "Try using .loc[row_indexer,col_indexer] = value instead\n",
            "\n",
            "See the caveats in the documentation: https://pandas.pydata.org/pandas-docs/stable/user_guide/indexing.html#returning-a-view-versus-a-copy\n",
            "  \"\"\"Entry point for launching an IPython kernel.\n"
          ]
        }
      ],
      "source": [
        "data[\"mood\"] = dataset[\"mood\"]"
      ]
    },
    {
      "cell_type": "code",
      "execution_count": 19,
      "metadata": {
        "id": "fEdm6zWN7LUb"
      },
      "outputs": [],
      "source": [
        "from sklearn.metrics import confusion_matrix"
      ]
    },
    {
      "cell_type": "code",
      "execution_count": 20,
      "metadata": {
        "colab": {
          "base_uri": "https://localhost:8080/"
        },
        "id": "2RSSW8nP7LUc",
        "outputId": "64ad5500-087e-4935-d8e4-7a34230b60f6"
      },
      "outputs": [
        {
          "data": {
            "text/plain": [
              "0      Happy\n",
              "1        Sad\n",
              "2        Sad\n",
              "3      Happy\n",
              "4      Angry\n",
              "       ...  \n",
              "681     Calm\n",
              "682      Sad\n",
              "683      Sad\n",
              "684      Sad\n",
              "685     Calm\n",
              "Name: mood, Length: 686, dtype: object"
            ]
          },
          "execution_count": 20,
          "metadata": {},
          "output_type": "execute_result"
        }
      ],
      "source": [
        "data[\"mood\"]"
      ]
    },
    {
      "cell_type": "markdown",
      "metadata": {
        "id": "QQEspvKq7LUd"
      },
      "source": [
        "0 has both Happy and Energetic songs, Cluster 1 has sad songs and cluster 2 has calm songs"
      ]
    },
    {
      "cell_type": "code",
      "execution_count": 21,
      "metadata": {
        "colab": {
          "base_uri": "https://localhost:8080/"
        },
        "id": "iFdMXXSm7LUe",
        "outputId": "a1dfd063-ff12-4753-8300-cc82d4616daa"
      },
      "outputs": [
        {
          "data": {
            "text/plain": [
              "array(['Happy', 'Sad', 'Angry', 'Calm'], dtype=object)"
            ]
          },
          "execution_count": 21,
          "metadata": {},
          "output_type": "execute_result"
        }
      ],
      "source": [
        "data[\"mood\"].unique()"
      ]
    },
    {
      "cell_type": "code",
      "execution_count": 22,
      "metadata": {
        "id": "vIzbdY_P7LUf"
      },
      "outputs": [],
      "source": [
        "mood = data[\"mood\"].map({\"Happy\":0, \"Angry\":0,\"Sad\":1, \"Calm\":2})"
      ]
    },
    {
      "cell_type": "code",
      "execution_count": 23,
      "metadata": {
        "colab": {
          "base_uri": "https://localhost:8080/"
        },
        "id": "lQDMP3Zm7LUg",
        "outputId": "b1434aa8-0b80-4c79-ef05-f8982cd1b71d"
      },
      "outputs": [
        {
          "data": {
            "text/plain": [
              "array([[276,  18,   0],\n",
              "       [ 50, 130,  17],\n",
              "       [  0,  12, 183]])"
            ]
          },
          "execution_count": 23,
          "metadata": {},
          "output_type": "execute_result"
        }
      ],
      "source": [
        "confusion_matrix(mood, data[\"labels\"])"
      ]
    },
    {
      "cell_type": "code",
      "execution_count": 24,
      "metadata": {
        "colab": {
          "base_uri": "https://localhost:8080/"
        },
        "id": "UDBa3hDV7LUg",
        "outputId": "afbf23e5-b6fe-4011-a6f4-f4a453e7088b"
      },
      "outputs": [
        {
          "name": "stdout",
          "output_type": "stream",
          "text": [
            "              precision    recall  f1-score   support\n",
            "\n",
            "           0       0.85      0.94      0.89       294\n",
            "           1       0.81      0.66      0.73       197\n",
            "           2       0.92      0.94      0.93       195\n",
            "\n",
            "    accuracy                           0.86       686\n",
            "   macro avg       0.86      0.85      0.85       686\n",
            "weighted avg       0.86      0.86      0.85       686\n",
            "\n"
          ]
        }
      ],
      "source": [
        "from sklearn.metrics import classification_report\n",
        "\n",
        "print(classification_report(mood, data[\"labels\"]))"
      ]
    },
    {
      "cell_type": "code",
      "execution_count": 25,
      "metadata": {
        "colab": {
          "base_uri": "https://localhost:8080/",
          "height": 204
        },
        "id": "fbnrnhe87LUh",
        "outputId": "f49214e1-92ce-49c8-f28c-e971eca59612"
      },
      "outputs": [
        {
          "data": {
            "text/html": [
              "<div>\n",
              "<style scoped>\n",
              "    .dataframe tbody tr th:only-of-type {\n",
              "        vertical-align: middle;\n",
              "    }\n",
              "\n",
              "    .dataframe tbody tr th {\n",
              "        vertical-align: top;\n",
              "    }\n",
              "\n",
              "    .dataframe thead th {\n",
              "        text-align: right;\n",
              "    }\n",
              "</style>\n",
              "<table border=\"1\" class=\"dataframe\">\n",
              "  <thead>\n",
              "    <tr style=\"text-align: right;\">\n",
              "      <th></th>\n",
              "      <th>length</th>\n",
              "      <th>danceability</th>\n",
              "      <th>acousticness</th>\n",
              "      <th>energy</th>\n",
              "      <th>instrumentalness</th>\n",
              "      <th>liveness</th>\n",
              "      <th>valence</th>\n",
              "      <th>loudness</th>\n",
              "      <th>speechiness</th>\n",
              "      <th>tempo</th>\n",
              "    </tr>\n",
              "    <tr>\n",
              "      <th>mood</th>\n",
              "      <th></th>\n",
              "      <th></th>\n",
              "      <th></th>\n",
              "      <th></th>\n",
              "      <th></th>\n",
              "      <th></th>\n",
              "      <th></th>\n",
              "      <th></th>\n",
              "      <th></th>\n",
              "      <th></th>\n",
              "    </tr>\n",
              "  </thead>\n",
              "  <tbody>\n",
              "    <tr>\n",
              "      <th>Angry</th>\n",
              "      <td>215779.948052</td>\n",
              "      <td>0.512240</td>\n",
              "      <td>0.028229</td>\n",
              "      <td>0.883669</td>\n",
              "      <td>0.056607</td>\n",
              "      <td>0.233897</td>\n",
              "      <td>0.437049</td>\n",
              "      <td>-4.695844</td>\n",
              "      <td>0.079170</td>\n",
              "      <td>132.060636</td>\n",
              "    </tr>\n",
              "    <tr>\n",
              "      <th>Calm</th>\n",
              "      <td>193977.061538</td>\n",
              "      <td>0.406815</td>\n",
              "      <td>0.883348</td>\n",
              "      <td>0.156325</td>\n",
              "      <td>0.890769</td>\n",
              "      <td>0.115418</td>\n",
              "      <td>0.151421</td>\n",
              "      <td>-20.955826</td>\n",
              "      <td>0.040742</td>\n",
              "      <td>108.851215</td>\n",
              "    </tr>\n",
              "    <tr>\n",
              "      <th>Happy</th>\n",
              "      <td>230963.850000</td>\n",
              "      <td>0.622914</td>\n",
              "      <td>0.127849</td>\n",
              "      <td>0.751857</td>\n",
              "      <td>0.126103</td>\n",
              "      <td>0.201682</td>\n",
              "      <td>0.579095</td>\n",
              "      <td>-7.275750</td>\n",
              "      <td>0.061774</td>\n",
              "      <td>124.213679</td>\n",
              "    </tr>\n",
              "    <tr>\n",
              "      <th>Sad</th>\n",
              "      <td>247504.472081</td>\n",
              "      <td>0.497245</td>\n",
              "      <td>0.578826</td>\n",
              "      <td>0.388068</td>\n",
              "      <td>0.201832</td>\n",
              "      <td>0.140655</td>\n",
              "      <td>0.289372</td>\n",
              "      <td>-10.569183</td>\n",
              "      <td>0.041736</td>\n",
              "      <td>115.599746</td>\n",
              "    </tr>\n",
              "  </tbody>\n",
              "</table>\n",
              "</div>"
            ],
            "text/plain": [
              "              length  danceability  ...  speechiness       tempo\n",
              "mood                                ...                         \n",
              "Angry  215779.948052      0.512240  ...     0.079170  132.060636\n",
              "Calm   193977.061538      0.406815  ...     0.040742  108.851215\n",
              "Happy  230963.850000      0.622914  ...     0.061774  124.213679\n",
              "Sad    247504.472081      0.497245  ...     0.041736  115.599746\n",
              "\n",
              "[4 rows x 10 columns]"
            ]
          },
          "execution_count": 25,
          "metadata": {},
          "output_type": "execute_result"
        }
      ],
      "source": [
        "dataset.groupby(\"mood\").mean().iloc[:,1:-2]"
      ]
    },
    {
      "cell_type": "code",
      "execution_count": 26,
      "metadata": {
        "colab": {
          "base_uri": "https://localhost:8080/",
          "height": 173
        },
        "id": "bX2frcuM7LUi",
        "outputId": "681babf4-3b7e-4f4a-d4fa-d5cb9718f49a",
        "scrolled": true
      },
      "outputs": [
        {
          "data": {
            "text/html": [
              "<div>\n",
              "<style scoped>\n",
              "    .dataframe tbody tr th:only-of-type {\n",
              "        vertical-align: middle;\n",
              "    }\n",
              "\n",
              "    .dataframe tbody tr th {\n",
              "        vertical-align: top;\n",
              "    }\n",
              "\n",
              "    .dataframe thead th {\n",
              "        text-align: right;\n",
              "    }\n",
              "</style>\n",
              "<table border=\"1\" class=\"dataframe\">\n",
              "  <thead>\n",
              "    <tr style=\"text-align: right;\">\n",
              "      <th></th>\n",
              "      <th>length</th>\n",
              "      <th>danceability</th>\n",
              "      <th>acousticness</th>\n",
              "      <th>energy</th>\n",
              "      <th>instrumentalness</th>\n",
              "      <th>valence</th>\n",
              "      <th>loudness</th>\n",
              "      <th>speechiness</th>\n",
              "      <th>tempo</th>\n",
              "    </tr>\n",
              "    <tr>\n",
              "      <th>labels</th>\n",
              "      <th></th>\n",
              "      <th></th>\n",
              "      <th></th>\n",
              "      <th></th>\n",
              "      <th></th>\n",
              "      <th></th>\n",
              "      <th></th>\n",
              "      <th></th>\n",
              "      <th></th>\n",
              "    </tr>\n",
              "  </thead>\n",
              "  <tbody>\n",
              "    <tr>\n",
              "      <th>0</th>\n",
              "      <td>221233.174847</td>\n",
              "      <td>0.573221</td>\n",
              "      <td>0.105007</td>\n",
              "      <td>0.787472</td>\n",
              "      <td>0.107613</td>\n",
              "      <td>0.508834</td>\n",
              "      <td>-6.256773</td>\n",
              "      <td>0.070064</td>\n",
              "      <td>126.765819</td>\n",
              "    </tr>\n",
              "    <tr>\n",
              "      <th>1</th>\n",
              "      <td>264623.725000</td>\n",
              "      <td>0.455902</td>\n",
              "      <td>0.607016</td>\n",
              "      <td>0.365848</td>\n",
              "      <td>0.177386</td>\n",
              "      <td>0.223786</td>\n",
              "      <td>-11.163988</td>\n",
              "      <td>0.038094</td>\n",
              "      <td>115.811506</td>\n",
              "    </tr>\n",
              "    <tr>\n",
              "      <th>2</th>\n",
              "      <td>188435.740000</td>\n",
              "      <td>0.417824</td>\n",
              "      <td>0.885866</td>\n",
              "      <td>0.165130</td>\n",
              "      <td>0.881845</td>\n",
              "      <td>0.166133</td>\n",
              "      <td>-20.421670</td>\n",
              "      <td>0.040356</td>\n",
              "      <td>109.354460</td>\n",
              "    </tr>\n",
              "  </tbody>\n",
              "</table>\n",
              "</div>"
            ],
            "text/plain": [
              "               length  danceability  ...  speechiness       tempo\n",
              "labels                               ...                         \n",
              "0       221233.174847      0.573221  ...     0.070064  126.765819\n",
              "1       264623.725000      0.455902  ...     0.038094  115.811506\n",
              "2       188435.740000      0.417824  ...     0.040356  109.354460\n",
              "\n",
              "[3 rows x 9 columns]"
            ]
          },
          "execution_count": 26,
          "metadata": {},
          "output_type": "execute_result"
        }
      ],
      "source": [
        "data.groupby(\"labels\").mean()"
      ]
    },
    {
      "cell_type": "code",
      "execution_count": 27,
      "metadata": {
        "colab": {
          "base_uri": "https://localhost:8080/"
        },
        "id": "1gk8TUY-7LUk",
        "outputId": "4651a99f-d47e-4481-ed27-25ad731559ca"
      },
      "outputs": [
        {
          "data": {
            "text/plain": [
              "length              264623.725000\n",
              "danceability             0.455902\n",
              "acousticness             0.607016\n",
              "energy                   0.365848\n",
              "instrumentalness         0.177386\n",
              "valence                  0.223786\n",
              "loudness               -11.163988\n",
              "speechiness              0.038094\n",
              "tempo                  115.811506\n",
              "Name: 1, dtype: float64"
            ]
          },
          "execution_count": 27,
          "metadata": {},
          "output_type": "execute_result"
        }
      ],
      "source": [
        "data.groupby(\"labels\").mean().loc[1]"
      ]
    },
    {
      "cell_type": "code",
      "execution_count": 28,
      "metadata": {
        "colab": {
          "base_uri": "https://localhost:8080/"
        },
        "id": "XN68np_X7LUl",
        "outputId": "cd8a8580-a4f8-496e-f7b1-d082ec6cfcfc"
      },
      "outputs": [
        {
          "data": {
            "text/plain": [
              "array([[-0.00881272,  0.45749611, -0.83995388,  0.85755463, -0.58992288,\n",
              "         0.65998931,  0.70670214,  0.38985181,  0.26352844],\n",
              "       [ 0.67609036, -0.2811084 ,  0.38317516, -0.43477194, -0.41983616,\n",
              "        -0.47061729,  0.04917914, -0.38343146, -0.11476014],\n",
              "       [-0.52650756, -0.52083193,  1.06258469, -1.04999649,  1.29744322,\n",
              "        -0.69928875, -1.19126779, -0.32871328, -0.33774326]])"
            ]
          },
          "execution_count": 28,
          "metadata": {},
          "output_type": "execute_result"
        }
      ],
      "source": [
        "cluster_means"
      ]
    },
    {
      "cell_type": "code",
      "execution_count": 29,
      "metadata": {
        "id": "9eFTpH--7LUm"
      },
      "outputs": [],
      "source": [
        "sadparams = cluster_means[1].reshape(1,-1)\n",
        "calmparams = cluster_means[2].reshape(1,-1)"
      ]
    },
    {
      "cell_type": "code",
      "execution_count": 30,
      "metadata": {
        "colab": {
          "base_uri": "https://localhost:8080/",
          "height": 173
        },
        "id": "FROL6bUQ7LUn",
        "outputId": "dace65fc-abe9-49f6-c2a3-1996e909bb3f"
      },
      "outputs": [
        {
          "data": {
            "text/html": [
              "<div>\n",
              "<style scoped>\n",
              "    .dataframe tbody tr th:only-of-type {\n",
              "        vertical-align: middle;\n",
              "    }\n",
              "\n",
              "    .dataframe tbody tr th {\n",
              "        vertical-align: top;\n",
              "    }\n",
              "\n",
              "    .dataframe thead th {\n",
              "        text-align: right;\n",
              "    }\n",
              "</style>\n",
              "<table border=\"1\" class=\"dataframe\">\n",
              "  <thead>\n",
              "    <tr style=\"text-align: right;\">\n",
              "      <th></th>\n",
              "      <th>length</th>\n",
              "      <th>danceability</th>\n",
              "      <th>acousticness</th>\n",
              "      <th>energy</th>\n",
              "      <th>instrumentalness</th>\n",
              "      <th>valence</th>\n",
              "      <th>loudness</th>\n",
              "      <th>speechiness</th>\n",
              "      <th>tempo</th>\n",
              "    </tr>\n",
              "    <tr>\n",
              "      <th>labels</th>\n",
              "      <th></th>\n",
              "      <th></th>\n",
              "      <th></th>\n",
              "      <th></th>\n",
              "      <th></th>\n",
              "      <th></th>\n",
              "      <th></th>\n",
              "      <th></th>\n",
              "      <th></th>\n",
              "    </tr>\n",
              "  </thead>\n",
              "  <tbody>\n",
              "    <tr>\n",
              "      <th>0</th>\n",
              "      <td>221233.174847</td>\n",
              "      <td>0.573221</td>\n",
              "      <td>0.105007</td>\n",
              "      <td>0.787472</td>\n",
              "      <td>0.107613</td>\n",
              "      <td>0.508834</td>\n",
              "      <td>-6.256773</td>\n",
              "      <td>0.070064</td>\n",
              "      <td>126.765819</td>\n",
              "    </tr>\n",
              "    <tr>\n",
              "      <th>1</th>\n",
              "      <td>264623.725000</td>\n",
              "      <td>0.455902</td>\n",
              "      <td>0.607016</td>\n",
              "      <td>0.365848</td>\n",
              "      <td>0.177386</td>\n",
              "      <td>0.223786</td>\n",
              "      <td>-11.163988</td>\n",
              "      <td>0.038094</td>\n",
              "      <td>115.811506</td>\n",
              "    </tr>\n",
              "    <tr>\n",
              "      <th>2</th>\n",
              "      <td>188435.740000</td>\n",
              "      <td>0.417824</td>\n",
              "      <td>0.885866</td>\n",
              "      <td>0.165130</td>\n",
              "      <td>0.881845</td>\n",
              "      <td>0.166133</td>\n",
              "      <td>-20.421670</td>\n",
              "      <td>0.040356</td>\n",
              "      <td>109.354460</td>\n",
              "    </tr>\n",
              "  </tbody>\n",
              "</table>\n",
              "</div>"
            ],
            "text/plain": [
              "               length  danceability  ...  speechiness       tempo\n",
              "labels                               ...                         \n",
              "0       221233.174847      0.573221  ...     0.070064  126.765819\n",
              "1       264623.725000      0.455902  ...     0.038094  115.811506\n",
              "2       188435.740000      0.417824  ...     0.040356  109.354460\n",
              "\n",
              "[3 rows x 9 columns]"
            ]
          },
          "execution_count": 30,
          "metadata": {},
          "output_type": "execute_result"
        }
      ],
      "source": [
        "data.groupby(\"labels\").mean()"
      ]
    },
    {
      "cell_type": "code",
      "execution_count": 31,
      "metadata": {
        "colab": {
          "base_uri": "https://localhost:8080/"
        },
        "id": "9LxGR7Ej7LUn",
        "outputId": "e58ccb4a-f267-4916-c35e-2c1e87e58973"
      },
      "outputs": [
        {
          "data": {
            "text/plain": [
              "['NearestNeighberSadCalm.pkl']"
            ]
          },
          "execution_count": 31,
          "metadata": {},
          "output_type": "execute_result"
        }
      ],
      "source": [
        "import joblib\n",
        "\n",
        "joblib.dump(sadparams,\"sadParams.wt\")\n",
        "joblib.dump(calmparams,\"calmParams.wt\")\n",
        "joblib.dump(nn, \"NearestNeighberSadCalm.pkl\")\n"
      ]
    },
    {
      "cell_type": "code",
      "execution_count": 32,
      "metadata": {
        "id": "v_7GRBcJ7LUo"
      },
      "outputs": [],
      "source": [
        "nn2 = joblib.load(\"NearestNeighberSadCalm.pkl\")"
      ]
    },
    {
      "cell_type": "code",
      "execution_count": 33,
      "metadata": {
        "colab": {
          "base_uri": "https://localhost:8080/"
        },
        "id": "zUQ-I_wf7LUp",
        "outputId": "6fef1921-3348-4d5f-d490-22380fe83574"
      },
      "outputs": [
        {
          "data": {
            "text/plain": [
              "array([[ 0.67609036, -0.2811084 ,  0.38317516, -0.43477194, -0.41983616,\n",
              "        -0.47061729,  0.04917914, -0.38343146, -0.11476014]])"
            ]
          },
          "execution_count": 33,
          "metadata": {},
          "output_type": "execute_result"
        }
      ],
      "source": [
        "sadparams"
      ]
    },
    {
      "cell_type": "code",
      "execution_count": 34,
      "metadata": {
        "id": "Ydaagnrb7LUr"
      },
      "outputs": [],
      "source": [
        "distance, index = nn2.kneighbors(sadparams)"
      ]
    },
    {
      "cell_type": "code",
      "execution_count": 35,
      "metadata": {
        "colab": {
          "base_uri": "https://localhost:8080/"
        },
        "id": "vvNPqYQ17LUt",
        "outputId": "9762b664-33b4-4f9b-b23a-17a65229d2b1"
      },
      "outputs": [
        {
          "data": {
            "text/plain": [
              "['5Iy1wdO0tMaHwKnfFYtlel',\n",
              " '0L6lVIgGqVHnmR3BIy8GHa',\n",
              " '6kyxQuFD38mo4S3urD2Wkw',\n",
              " '2SbIONplUQ0BvXyRgGDgCz',\n",
              " '3U4isOIWM3VvDubwSI3y7a',\n",
              " '2KSCegx6TosQQEgmhJKNQa',\n",
              " '4gkoh2vAD57fGEITzteaUh',\n",
              " '0x4CFzoSdqVq5qTGgwZFuX',\n",
              " '5AqPW3fH2H4ORBYTVwfHep',\n",
              " '6ruBSXfnFc6raFDFm9YB3r']"
            ]
          },
          "execution_count": 35,
          "metadata": {},
          "output_type": "execute_result"
        }
      ],
      "source": [
        "list(dataset.loc[index[0]][\"id\"].values)"
      ]
    },
    {
      "cell_type": "markdown",
      "metadata": {
        "id": "jtEaLI9A7LUv"
      },
      "source": [
        "From the cluster centers, it can be concluded that cluster 0 has both Happy and Energetic songs, Cluster 1 has sad songs and cluster 2 has calm songs"
      ]
    },
    {
      "cell_type": "markdown",
      "metadata": {
        "id": "w9bIyVxt7LUw"
      },
      "source": [
        "To identify difference between Happy and Energetic, let's do some EDA"
      ]
    },
    {
      "cell_type": "code",
      "execution_count": 36,
      "metadata": {
        "id": "oYkrT9OI7LUw"
      },
      "outputs": [],
      "source": [
        "happyener = dataset[(dataset[\"mood\"] == \"Happy\") | (dataset[\"mood\"] == \"Angry\")].reset_index(drop = True)"
      ]
    },
    {
      "cell_type": "code",
      "execution_count": 37,
      "metadata": {
        "id": "YrwBuVW37LUx"
      },
      "outputs": [],
      "source": [
        "import seaborn as sns"
      ]
    },
    {
      "cell_type": "code",
      "execution_count": 38,
      "metadata": {
        "colab": {
          "base_uri": "https://localhost:8080/",
          "height": 1000
        },
        "id": "K1Y_Dxne7LUy",
        "outputId": "a6f68376-a3a5-4b0d-d812-f4b5dc1b7366"
      },
      "outputs": [
        {
          "data": {
            "image/png": "[encoded data removed]",
            "text/plain": [
              "<Figure size 1440x1440 with 9 Axes>"
            ]
          },
          "metadata": {
            "needs_background": "light"
          },
          "output_type": "display_data"
        }
      ],
      "source": [
        "features = [\"length\", \"danceability\" ,\"acousticness\" ,\"energy\" ,\"instrumentalness\", \"valence\",\"loudness\" ,\"speechiness\", \"tempo\"]\n",
        "fig,ax = plt.subplots(3,3, figsize= (20,20))\n",
        "ax = ax.flatten()\n",
        "for idx,feature in enumerate(features):\n",
        "    sns.boxplot(y = feature, x = \"mood\", data = happyener, ax = ax[idx])"
      ]
    },
    {
      "cell_type": "markdown",
      "metadata": {
        "id": "R2LCMji97LUz"
      },
      "source": [
        "Danceabilty, acousticness, energy, loudness, speechiness are distinctive features of happy and energetic"
      ]
    },
    {
      "cell_type": "code",
      "execution_count": 39,
      "metadata": {
        "colab": {
          "base_uri": "https://localhost:8080/"
        },
        "id": "TyR3kBhy7LU0",
        "outputId": "7026bca9-5477-4060-d06d-592217c99702"
      },
      "outputs": [
        {
          "data": {
            "text/plain": [
              "(294, 5)"
            ]
          },
          "execution_count": 39,
          "metadata": {},
          "output_type": "execute_result"
        }
      ],
      "source": [
        "# Importing the dataset\n",
        "\n",
        "columns = [\"danceability\",\"acousticness\",\"energy\",\"loudness\",\"speechiness\"]\n",
        "data1 = happyener[columns]\n",
        "data1.shape"
      ]
    },
    {
      "cell_type": "code",
      "execution_count": 40,
      "metadata": {
        "colab": {
          "base_uri": "https://localhost:8080/",
          "height": 265
        },
        "id": "7eKCW6R77LU1",
        "outputId": "e565aa1e-621c-4722-e219-e708d1259fda"
      },
      "outputs": [
        {
          "data": {
            "image/png": "[encoded data removed]",
            "text/plain": [
              "<Figure size 432x288 with 1 Axes>"
            ]
          },
          "metadata": {
            "needs_background": "light"
          },
          "output_type": "display_data"
        }
      ],
      "source": [
        "import seaborn as sns\n",
        "# Using Dendrograms to find the right number of clustres \n",
        "\n",
        "import scipy.cluster.hierarchy as sch\n",
        "dendrogram = sch.dendrogram(sch.linkage(data1, method = 'ward'))"
      ]
    },
    {
      "cell_type": "code",
      "execution_count": 41,
      "metadata": {
        "colab": {
          "base_uri": "https://localhost:8080/"
        },
        "id": "pj-ttZ7w7LU1",
        "outputId": "7264944f-2ef6-4770-e7f0-92bdd25d5752"
      },
      "outputs": [
        {
          "data": {
            "text/plain": [
              "array([0, 1])"
            ]
          },
          "execution_count": 41,
          "metadata": {},
          "output_type": "execute_result"
        }
      ],
      "source": [
        "# Fitting Agglomerative clustering to the dataset\n",
        "from sklearn.cluster import AgglomerativeClustering\n",
        "agglomerative = AgglomerativeClustering(affinity='euclidean', linkage='ward', n_clusters = 2)\n",
        "\n",
        "sc2 = StandardScaler()\n",
        "scaled_data2 = sc2.fit_transform(data1)\n",
        "labels = agglomerative.fit_predict(scaled_data2)\n",
        "\n",
        "np.unique(labels)"
      ]
    },
    {
      "cell_type": "code",
      "execution_count": 42,
      "metadata": {
        "colab": {
          "base_uri": "https://localhost:8080/"
        },
        "id": "3bOxYYH07LU2",
        "outputId": "b0f6f5df-9cb5-4e76-966e-01deeaf97b4f"
      },
      "outputs": [
        {
          "name": "stderr",
          "output_type": "stream",
          "text": [
            "/usr/local/lib/python3.7/dist-packages/ipykernel_launcher.py:1: SettingWithCopyWarning: \n",
            "A value is trying to be set on a copy of a slice from a DataFrame.\n",
            "Try using .loc[row_indexer,col_indexer] = value instead\n",
            "\n",
            "See the caveats in the documentation: https://pandas.pydata.org/pandas-docs/stable/user_guide/indexing.html#returning-a-view-versus-a-copy\n",
            "  \"\"\"Entry point for launching an IPython kernel.\n"
          ]
        }
      ],
      "source": [
        "data1[\"labels\"] = labels"
      ]
    },
    {
      "cell_type": "code",
      "execution_count": 43,
      "metadata": {
        "colab": {
          "base_uri": "https://localhost:8080/"
        },
        "id": "vAzX8FAi7LU3",
        "outputId": "ba88cc7f-f706-46d1-869e-2e32834d9579"
      },
      "outputs": [
        {
          "name": "stdout",
          "output_type": "stream",
          "text": [
            "[0.45122597 0.13229815]\n",
            "Index(['danceability', 'acousticness', 'energy', 'loudness', 'speechiness',\n",
            "       'labels'],\n",
            "      dtype='object')\n"
          ]
        }
      ],
      "source": [
        "from sklearn.decomposition import PCA\n",
        "\n",
        "from sklearn.preprocessing import StandardScaler\n",
        "\n",
        "pca1 = PCA(n_components=0.95)\n",
        "\n",
        "pca1.fit(scaled_data2)\n",
        "\n",
        "print(pca.explained_variance_ratio_)\n",
        "\n",
        "pca1 = PCA(n_components=2)\n",
        "pca1.fit(scaled_data2)\n",
        "transformed_data1 = pca1.transform(scaled_data2)\n",
        "\n",
        "print(data1.columns)"
      ]
    },
    {
      "cell_type": "code",
      "execution_count": 44,
      "metadata": {
        "id": "Ei0SEP6k7LU3"
      },
      "outputs": [],
      "source": [
        "transformed_data1 = pd.DataFrame(transformed_data1, columns = [\"PCA1\",\"PCA2\"])\n",
        "transformed_data1[\"labels\"] = labels"
      ]
    },
    {
      "cell_type": "code",
      "execution_count": 45,
      "metadata": {
        "colab": {
          "base_uri": "https://localhost:8080/",
          "height": 351
        },
        "id": "z6xMa2Z-7LU4",
        "outputId": "c4ea5b82-309b-4a9d-b154-57e34a8e377d"
      },
      "outputs": [
        {
          "data": {
            "text/plain": [
              "<matplotlib.axes._subplots.AxesSubplot at 0x7f11b3991e90>"
            ]
          },
          "execution_count": 45,
          "metadata": {},
          "output_type": "execute_result"
        },
        {
          "data": {
            "image/png": "[encoded data removed]",
            "text/plain": [
              "<Figure size 1080x360 with 1 Axes>"
            ]
          },
          "metadata": {
            "needs_background": "light"
          },
          "output_type": "display_data"
        }
      ],
      "source": [
        "plt.figure(figsize = (15,5))\n",
        "sns.scatterplot(data = transformed_data1, x = \"PCA1\", y = \"PCA2\", hue = \"labels\", style = \"labels\", palette=\"viridis\")"
      ]
    },
    {
      "cell_type": "code",
      "execution_count": 46,
      "metadata": {
        "id": "GpA4y7zk7LU4"
      },
      "outputs": [],
      "source": [
        "from sklearn.neighbors import NearestNeighbors"
      ]
    },
    {
      "cell_type": "code",
      "execution_count": 47,
      "metadata": {
        "colab": {
          "base_uri": "https://localhost:8080/",
          "height": 142
        },
        "id": "qYgYlzrT7LU5",
        "outputId": "0f7648a3-144a-4d2a-bb86-0ac07013e0bf"
      },
      "outputs": [
        {
          "data": {
            "text/html": [
              "<div>\n",
              "<style scoped>\n",
              "    .dataframe tbody tr th:only-of-type {\n",
              "        vertical-align: middle;\n",
              "    }\n",
              "\n",
              "    .dataframe tbody tr th {\n",
              "        vertical-align: top;\n",
              "    }\n",
              "\n",
              "    .dataframe thead th {\n",
              "        text-align: right;\n",
              "    }\n",
              "</style>\n",
              "<table border=\"1\" class=\"dataframe\">\n",
              "  <thead>\n",
              "    <tr style=\"text-align: right;\">\n",
              "      <th></th>\n",
              "      <th>danceability</th>\n",
              "      <th>acousticness</th>\n",
              "      <th>energy</th>\n",
              "      <th>loudness</th>\n",
              "      <th>speechiness</th>\n",
              "    </tr>\n",
              "    <tr>\n",
              "      <th>labels</th>\n",
              "      <th></th>\n",
              "      <th></th>\n",
              "      <th></th>\n",
              "      <th></th>\n",
              "      <th></th>\n",
              "    </tr>\n",
              "  </thead>\n",
              "  <tbody>\n",
              "    <tr>\n",
              "      <th>0</th>\n",
              "      <td>0.672856</td>\n",
              "      <td>0.166539</td>\n",
              "      <td>0.715288</td>\n",
              "      <td>-7.855901</td>\n",
              "      <td>0.048445</td>\n",
              "    </tr>\n",
              "    <tr>\n",
              "      <th>1</th>\n",
              "      <td>0.499486</td>\n",
              "      <td>0.020548</td>\n",
              "      <td>0.884962</td>\n",
              "      <td>-4.752787</td>\n",
              "      <td>0.084498</td>\n",
              "    </tr>\n",
              "  </tbody>\n",
              "</table>\n",
              "</div>"
            ],
            "text/plain": [
              "        danceability  acousticness    energy  loudness  speechiness\n",
              "labels                                                             \n",
              "0           0.672856      0.166539  0.715288 -7.855901     0.048445\n",
              "1           0.499486      0.020548  0.884962 -4.752787     0.084498"
            ]
          },
          "execution_count": 47,
          "metadata": {},
          "output_type": "execute_result"
        }
      ],
      "source": [
        "data1.groupby(\"labels\").mean()"
      ]
    },
    {
      "cell_type": "markdown",
      "metadata": {},
      "source": []
    },
    {
      "cell_type": "code",
      "execution_count": 48,
      "metadata": {
        "colab": {
          "base_uri": "https://localhost:8080/",
          "height": 359
        },
        "id": "H7B02T7Q7LU5",
        "outputId": "a219ce7c-1196-4771-8ee7-ac7dcddd1766"
      },
      "outputs": [
        {
          "data": {
            "text/html": [
              "<div>\n",
              "<style scoped>\n",
              "    .dataframe tbody tr th:only-of-type {\n",
              "        vertical-align: middle;\n",
              "    }\n",
              "\n",
              "    .dataframe tbody tr th {\n",
              "        vertical-align: top;\n",
              "    }\n",
              "\n",
              "    .dataframe thead th {\n",
              "        text-align: right;\n",
              "    }\n",
              "</style>\n",
              "<table border=\"1\" class=\"dataframe\">\n",
              "  <thead>\n",
              "    <tr style=\"text-align: right;\">\n",
              "      <th></th>\n",
              "      <th>danceability</th>\n",
              "      <th>acousticness</th>\n",
              "      <th>energy</th>\n",
              "      <th>loudness</th>\n",
              "      <th>speechiness</th>\n",
              "      <th>labels</th>\n",
              "    </tr>\n",
              "  </thead>\n",
              "  <tbody>\n",
              "    <tr>\n",
              "      <th>148</th>\n",
              "      <td>0.475</td>\n",
              "      <td>0.000121</td>\n",
              "      <td>0.907</td>\n",
              "      <td>-5.064</td>\n",
              "      <td>0.0941</td>\n",
              "      <td>1</td>\n",
              "    </tr>\n",
              "    <tr>\n",
              "      <th>93</th>\n",
              "      <td>0.467</td>\n",
              "      <td>0.005780</td>\n",
              "      <td>0.876</td>\n",
              "      <td>-4.841</td>\n",
              "      <td>0.0693</td>\n",
              "      <td>1</td>\n",
              "    </tr>\n",
              "    <tr>\n",
              "      <th>284</th>\n",
              "      <td>0.526</td>\n",
              "      <td>0.001380</td>\n",
              "      <td>0.867</td>\n",
              "      <td>-4.332</td>\n",
              "      <td>0.0659</td>\n",
              "      <td>1</td>\n",
              "    </tr>\n",
              "    <tr>\n",
              "      <th>292</th>\n",
              "      <td>0.547</td>\n",
              "      <td>0.004850</td>\n",
              "      <td>0.877</td>\n",
              "      <td>-5.135</td>\n",
              "      <td>0.0658</td>\n",
              "      <td>1</td>\n",
              "    </tr>\n",
              "    <tr>\n",
              "      <th>9</th>\n",
              "      <td>0.492</td>\n",
              "      <td>0.000444</td>\n",
              "      <td>0.950</td>\n",
              "      <td>-4.195</td>\n",
              "      <td>0.0760</td>\n",
              "      <td>1</td>\n",
              "    </tr>\n",
              "    <tr>\n",
              "      <th>90</th>\n",
              "      <td>0.481</td>\n",
              "      <td>0.023800</td>\n",
              "      <td>0.922</td>\n",
              "      <td>-4.170</td>\n",
              "      <td>0.0640</td>\n",
              "      <td>1</td>\n",
              "    </tr>\n",
              "    <tr>\n",
              "      <th>185</th>\n",
              "      <td>0.440</td>\n",
              "      <td>0.002220</td>\n",
              "      <td>0.919</td>\n",
              "      <td>-4.462</td>\n",
              "      <td>0.0735</td>\n",
              "      <td>1</td>\n",
              "    </tr>\n",
              "    <tr>\n",
              "      <th>117</th>\n",
              "      <td>0.502</td>\n",
              "      <td>0.000214</td>\n",
              "      <td>0.920</td>\n",
              "      <td>-4.588</td>\n",
              "      <td>0.0611</td>\n",
              "      <td>1</td>\n",
              "    </tr>\n",
              "    <tr>\n",
              "      <th>24</th>\n",
              "      <td>0.531</td>\n",
              "      <td>0.000508</td>\n",
              "      <td>0.892</td>\n",
              "      <td>-4.540</td>\n",
              "      <td>0.0582</td>\n",
              "      <td>1</td>\n",
              "    </tr>\n",
              "    <tr>\n",
              "      <th>169</th>\n",
              "      <td>0.563</td>\n",
              "      <td>0.012200</td>\n",
              "      <td>0.882</td>\n",
              "      <td>-4.755</td>\n",
              "      <td>0.0596</td>\n",
              "      <td>1</td>\n",
              "    </tr>\n",
              "  </tbody>\n",
              "</table>\n",
              "</div>"
            ],
            "text/plain": [
              "     danceability  acousticness  energy  loudness  speechiness  labels\n",
              "148         0.475      0.000121   0.907    -5.064       0.0941       1\n",
              "93          0.467      0.005780   0.876    -4.841       0.0693       1\n",
              "284         0.526      0.001380   0.867    -4.332       0.0659       1\n",
              "292         0.547      0.004850   0.877    -5.135       0.0658       1\n",
              "9           0.492      0.000444   0.950    -4.195       0.0760       1\n",
              "90          0.481      0.023800   0.922    -4.170       0.0640       1\n",
              "185         0.440      0.002220   0.919    -4.462       0.0735       1\n",
              "117         0.502      0.000214   0.920    -4.588       0.0611       1\n",
              "24          0.531      0.000508   0.892    -4.540       0.0582       1\n",
              "169         0.563      0.012200   0.882    -4.755       0.0596       1"
            ]
          },
          "execution_count": 48,
          "metadata": {},
          "output_type": "execute_result"
        }
      ],
      "source": [
        "select_cluster = 1\n",
        "\n",
        "nn = NearestNeighbors(n_neighbors=10, radius = 10, metric = \"euclidean\")\n",
        "\n",
        "nn.fit(scaled_data2)\n",
        "\n",
        "data1.groupby(\"labels\").mean()\n",
        "\n",
        "cluster_means = sc2.transform(data1.groupby(\"labels\").mean())\n",
        "\n",
        "\n",
        "cluster1 = cluster_means[select_cluster].reshape(1,-1)\n",
        "distance, index = nn.kneighbors(X=cluster1, n_neighbors=10)\n",
        "\n",
        "data1.loc[index[0]]"
      ]
    },
    {
      "cell_type": "code",
      "execution_count": 49,
      "metadata": {
        "colab": {
          "base_uri": "https://localhost:8080/"
        },
        "id": "lzuoco7g7LU6",
        "outputId": "34fcfac7-41af-4d95-89b2-8705de3b21ce"
      },
      "outputs": [
        {
          "data": {
            "text/plain": [
              "['NearestNeighberHappyAngry.pkl']"
            ]
          },
          "execution_count": 49,
          "metadata": {},
          "output_type": "execute_result"
        }
      ],
      "source": [
        "happyParams = cluster_means[0].reshape(1,-1)\n",
        "AngryParams = cluster_means[1].reshape(1,-1)\n",
        "\n",
        "\n",
        "\n",
        "joblib.dump(happyParams,\"happyParams.wt\")\n",
        "joblib.dump(AngryParams,\"angryParams.wt\")\n",
        "joblib.dump(nn, \"NearestNeighberHappyAngry.pkl\")"
      ]
    },
    {
      "cell_type": "code",
      "execution_count": 50,
      "metadata": {
        "colab": {
          "base_uri": "https://localhost:8080/"
        },
        "id": "fegs2T4h7LU7",
        "outputId": "5b856815-856e-4b38-fc66-a278b1089d32"
      },
      "outputs": [
        {
          "name": "stderr",
          "output_type": "stream",
          "text": [
            "/usr/local/lib/python3.7/dist-packages/ipykernel_launcher.py:1: SettingWithCopyWarning: \n",
            "A value is trying to be set on a copy of a slice from a DataFrame.\n",
            "Try using .loc[row_indexer,col_indexer] = value instead\n",
            "\n",
            "See the caveats in the documentation: https://pandas.pydata.org/pandas-docs/stable/user_guide/indexing.html#returning-a-view-versus-a-copy\n",
            "  \"\"\"Entry point for launching an IPython kernel.\n"
          ]
        }
      ],
      "source": [
        "data1[\"mood\"] = happyener[\"mood\"]"
      ]
    },
    {
      "cell_type": "code",
      "execution_count": 51,
      "metadata": {
        "colab": {
          "base_uri": "https://localhost:8080/",
          "height": 419
        },
        "id": "hqdGw5Dj7LU8",
        "outputId": "a9530da8-c0a9-4274-9268-abb7002c2cf3"
      },
      "outputs": [
        {
          "data": {
            "text/html": [
              "<div>\n",
              "<style scoped>\n",
              "    .dataframe tbody tr th:only-of-type {\n",
              "        vertical-align: middle;\n",
              "    }\n",
              "\n",
              "    .dataframe tbody tr th {\n",
              "        vertical-align: top;\n",
              "    }\n",
              "\n",
              "    .dataframe thead th {\n",
              "        text-align: right;\n",
              "    }\n",
              "</style>\n",
              "<table border=\"1\" class=\"dataframe\">\n",
              "  <thead>\n",
              "    <tr style=\"text-align: right;\">\n",
              "      <th></th>\n",
              "      <th>danceability</th>\n",
              "      <th>acousticness</th>\n",
              "      <th>energy</th>\n",
              "      <th>loudness</th>\n",
              "      <th>speechiness</th>\n",
              "      <th>labels</th>\n",
              "      <th>mood</th>\n",
              "    </tr>\n",
              "  </thead>\n",
              "  <tbody>\n",
              "    <tr>\n",
              "      <th>0</th>\n",
              "      <td>0.866</td>\n",
              "      <td>0.137000</td>\n",
              "      <td>0.730</td>\n",
              "      <td>-8.201</td>\n",
              "      <td>0.0767</td>\n",
              "      <td>0</td>\n",
              "      <td>Happy</td>\n",
              "    </tr>\n",
              "    <tr>\n",
              "      <th>1</th>\n",
              "      <td>0.466</td>\n",
              "      <td>0.089000</td>\n",
              "      <td>0.438</td>\n",
              "      <td>-12.858</td>\n",
              "      <td>0.0608</td>\n",
              "      <td>0</td>\n",
              "      <td>Happy</td>\n",
              "    </tr>\n",
              "    <tr>\n",
              "      <th>2</th>\n",
              "      <td>0.419</td>\n",
              "      <td>0.001710</td>\n",
              "      <td>0.932</td>\n",
              "      <td>-3.604</td>\n",
              "      <td>0.1060</td>\n",
              "      <td>1</td>\n",
              "      <td>Angry</td>\n",
              "    </tr>\n",
              "    <tr>\n",
              "      <th>3</th>\n",
              "      <td>0.586</td>\n",
              "      <td>0.000155</td>\n",
              "      <td>0.935</td>\n",
              "      <td>-9.386</td>\n",
              "      <td>0.0482</td>\n",
              "      <td>0</td>\n",
              "      <td>Happy</td>\n",
              "    </tr>\n",
              "    <tr>\n",
              "      <th>4</th>\n",
              "      <td>0.603</td>\n",
              "      <td>0.014400</td>\n",
              "      <td>0.908</td>\n",
              "      <td>-5.254</td>\n",
              "      <td>0.1840</td>\n",
              "      <td>1</td>\n",
              "      <td>Angry</td>\n",
              "    </tr>\n",
              "    <tr>\n",
              "      <th>...</th>\n",
              "      <td>...</td>\n",
              "      <td>...</td>\n",
              "      <td>...</td>\n",
              "      <td>...</td>\n",
              "      <td>...</td>\n",
              "      <td>...</td>\n",
              "      <td>...</td>\n",
              "    </tr>\n",
              "    <tr>\n",
              "      <th>289</th>\n",
              "      <td>0.663</td>\n",
              "      <td>0.065500</td>\n",
              "      <td>0.671</td>\n",
              "      <td>-6.103</td>\n",
              "      <td>0.0395</td>\n",
              "      <td>0</td>\n",
              "      <td>Angry</td>\n",
              "    </tr>\n",
              "    <tr>\n",
              "      <th>290</th>\n",
              "      <td>0.686</td>\n",
              "      <td>0.053400</td>\n",
              "      <td>0.775</td>\n",
              "      <td>-7.247</td>\n",
              "      <td>0.1850</td>\n",
              "      <td>1</td>\n",
              "      <td>Happy</td>\n",
              "    </tr>\n",
              "    <tr>\n",
              "      <th>291</th>\n",
              "      <td>0.621</td>\n",
              "      <td>0.170000</td>\n",
              "      <td>0.901</td>\n",
              "      <td>-5.396</td>\n",
              "      <td>0.0302</td>\n",
              "      <td>0</td>\n",
              "      <td>Happy</td>\n",
              "    </tr>\n",
              "    <tr>\n",
              "      <th>292</th>\n",
              "      <td>0.547</td>\n",
              "      <td>0.004850</td>\n",
              "      <td>0.877</td>\n",
              "      <td>-5.135</td>\n",
              "      <td>0.0658</td>\n",
              "      <td>1</td>\n",
              "      <td>Angry</td>\n",
              "    </tr>\n",
              "    <tr>\n",
              "      <th>293</th>\n",
              "      <td>0.518</td>\n",
              "      <td>0.158000</td>\n",
              "      <td>0.761</td>\n",
              "      <td>-7.025</td>\n",
              "      <td>0.0452</td>\n",
              "      <td>0</td>\n",
              "      <td>Happy</td>\n",
              "    </tr>\n",
              "  </tbody>\n",
              "</table>\n",
              "<p>294 rows × 7 columns</p>\n",
              "</div>"
            ],
            "text/plain": [
              "     danceability  acousticness  energy  loudness  speechiness  labels   mood\n",
              "0           0.866      0.137000   0.730    -8.201       0.0767       0  Happy\n",
              "1           0.466      0.089000   0.438   -12.858       0.0608       0  Happy\n",
              "2           0.419      0.001710   0.932    -3.604       0.1060       1  Angry\n",
              "3           0.586      0.000155   0.935    -9.386       0.0482       0  Happy\n",
              "4           0.603      0.014400   0.908    -5.254       0.1840       1  Angry\n",
              "..            ...           ...     ...       ...          ...     ...    ...\n",
              "289         0.663      0.065500   0.671    -6.103       0.0395       0  Angry\n",
              "290         0.686      0.053400   0.775    -7.247       0.1850       1  Happy\n",
              "291         0.621      0.170000   0.901    -5.396       0.0302       0  Happy\n",
              "292         0.547      0.004850   0.877    -5.135       0.0658       1  Angry\n",
              "293         0.518      0.158000   0.761    -7.025       0.0452       0  Happy\n",
              "\n",
              "[294 rows x 7 columns]"
            ]
          },
          "execution_count": 51,
          "metadata": {},
          "output_type": "execute_result"
        }
      ],
      "source": [
        "data1"
      ]
    },
    {
      "cell_type": "code",
      "execution_count": 52,
      "metadata": {
        "colab": {
          "base_uri": "https://localhost:8080/"
        },
        "id": "B6LKHzSj7LU9",
        "outputId": "63e6be07-7a40-4380-b70c-ca3e84514de0"
      },
      "outputs": [
        {
          "name": "stderr",
          "output_type": "stream",
          "text": [
            "/usr/local/lib/python3.7/dist-packages/ipykernel_launcher.py:1: SettingWithCopyWarning: \n",
            "A value is trying to be set on a copy of a slice from a DataFrame.\n",
            "Try using .loc[row_indexer,col_indexer] = value instead\n",
            "\n",
            "See the caveats in the documentation: https://pandas.pydata.org/pandas-docs/stable/user_guide/indexing.html#returning-a-view-versus-a-copy\n",
            "  \"\"\"Entry point for launching an IPython kernel.\n"
          ]
        }
      ],
      "source": [
        "data1[\"actual label\"] = data1[\"mood\"].apply(lambda x: 0 if x == \"Happy\" else 1)"
      ]
    },
    {
      "cell_type": "code",
      "execution_count": 53,
      "metadata": {
        "colab": {
          "base_uri": "https://localhost:8080/"
        },
        "id": "NbffmHEN7LU-",
        "outputId": "e28690be-e4be-4cfc-81ac-dc732724bef5"
      },
      "outputs": [
        {
          "data": {
            "text/plain": [
              "labels  actual label\n",
              "1       1               132\n",
              "0       0                89\n",
              "1       0                51\n",
              "0       1                22\n",
              "dtype: int64"
            ]
          },
          "execution_count": 53,
          "metadata": {},
          "output_type": "execute_result"
        }
      ],
      "source": [
        "data1[[\"labels\", \"actual label\"]].value_counts()"
      ]
    },
    {
      "cell_type": "code",
      "execution_count": 54,
      "metadata": {
        "colab": {
          "base_uri": "https://localhost:8080/"
        },
        "id": "jg9Nrvdp7LU-",
        "outputId": "51ab66d0-b1b3-4dba-fe6f-4aeeef110942"
      },
      "outputs": [
        {
          "data": {
            "text/plain": [
              "array([[ 89,  51],\n",
              "       [ 22, 132]])"
            ]
          },
          "execution_count": 54,
          "metadata": {},
          "output_type": "execute_result"
        }
      ],
      "source": [
        "confusion_matrix(data1[\"actual label\"], data1[\"labels\"])"
      ]
    },
    {
      "cell_type": "code",
      "execution_count": 55,
      "metadata": {
        "colab": {
          "base_uri": "https://localhost:8080/"
        },
        "id": "n9oJ5in-7LU_",
        "outputId": "d930fc52-6582-4a2a-a1e6-36f26e60c2e9"
      },
      "outputs": [
        {
          "name": "stdout",
          "output_type": "stream",
          "text": [
            "              precision    recall  f1-score   support\n",
            "\n",
            "           0       0.80      0.64      0.71       140\n",
            "           1       0.72      0.86      0.78       154\n",
            "\n",
            "    accuracy                           0.75       294\n",
            "   macro avg       0.76      0.75      0.75       294\n",
            "weighted avg       0.76      0.75      0.75       294\n",
            "\n"
          ]
        }
      ],
      "source": [
        "from sklearn.metrics import classification_report\n",
        "\n",
        "print(classification_report(data1[\"actual label\"], data1[\"labels\"]))"
      ]
    }
  ],
  "metadata": {
    "colab": {
      "collapsed_sections": [],
      "name": "Hierarchical.ipynb",
      "provenance": []
    },
    "kernelspec": {
      "display_name": "Python 3",
      "language": "python",
      "name": "python3"
    },
    "language_info": {
      "codemirror_mode": {
        "name": "ipython",
        "version": 3
      },
      "file_extension": ".py",
      "mimetype": "text/x-python",
      "name": "python",
      "nbconvert_exporter": "python",
      "pygments_lexer": "ipython3",
      "version": "3.9.7"
    }
  },
  "nbformat": 4,
  "nbformat_minor": 0
}
